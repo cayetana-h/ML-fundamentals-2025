{
 "cells": [
  {
   "cell_type": "code",
   "execution_count": null,
   "id": "da18173f",
   "metadata": {},
   "outputs": [
    {
     "name": "stdout",
     "output_type": "stream",
     "text": [
      "Requirement already satisfied: pandas in /Library/Frameworks/Python.framework/Versions/3.12/lib/python3.12/site-packages (2.2.3)\n",
      "Requirement already satisfied: numpy>=1.26.0 in /Library/Frameworks/Python.framework/Versions/3.12/lib/python3.12/site-packages (from pandas) (2.2.2)\n",
      "Requirement already satisfied: python-dateutil>=2.8.2 in /Users/cayetanah/Library/Python/3.12/lib/python/site-packages (from pandas) (2.9.0.post0)\n",
      "Requirement already satisfied: pytz>=2020.1 in /Library/Frameworks/Python.framework/Versions/3.12/lib/python3.12/site-packages (from pandas) (2025.1)\n",
      "Requirement already satisfied: tzdata>=2022.7 in /Library/Frameworks/Python.framework/Versions/3.12/lib/python3.12/site-packages (from pandas) (2025.1)\n",
      "Requirement already satisfied: six>=1.5 in /Users/cayetanah/Library/Python/3.12/lib/python/site-packages (from python-dateutil>=2.8.2->pandas) (1.17.0)\n",
      "Requirement already satisfied: matplotlib in /Library/Frameworks/Python.framework/Versions/3.12/lib/python3.12/site-packages (3.10.0)\n",
      "Requirement already satisfied: contourpy>=1.0.1 in /Library/Frameworks/Python.framework/Versions/3.12/lib/python3.12/site-packages (from matplotlib) (1.3.1)\n",
      "Requirement already satisfied: cycler>=0.10 in /Library/Frameworks/Python.framework/Versions/3.12/lib/python3.12/site-packages (from matplotlib) (0.12.1)\n",
      "Requirement already satisfied: fonttools>=4.22.0 in /Library/Frameworks/Python.framework/Versions/3.12/lib/python3.12/site-packages (from matplotlib) (4.56.0)\n",
      "Requirement already satisfied: kiwisolver>=1.3.1 in /Library/Frameworks/Python.framework/Versions/3.12/lib/python3.12/site-packages (from matplotlib) (1.4.8)\n",
      "Requirement already satisfied: numpy>=1.23 in /Library/Frameworks/Python.framework/Versions/3.12/lib/python3.12/site-packages (from matplotlib) (2.2.2)\n",
      "Requirement already satisfied: packaging>=20.0 in /Users/cayetanah/Library/Python/3.12/lib/python/site-packages (from matplotlib) (24.2)\n",
      "Requirement already satisfied: pillow>=8 in /Library/Frameworks/Python.framework/Versions/3.12/lib/python3.12/site-packages (from matplotlib) (11.1.0)\n",
      "Requirement already satisfied: pyparsing>=2.3.1 in /Library/Frameworks/Python.framework/Versions/3.12/lib/python3.12/site-packages (from matplotlib) (3.2.1)\n",
      "Requirement already satisfied: python-dateutil>=2.7 in /Users/cayetanah/Library/Python/3.12/lib/python/site-packages (from matplotlib) (2.9.0.post0)\n",
      "Requirement already satisfied: six>=1.5 in /Users/cayetanah/Library/Python/3.12/lib/python/site-packages (from python-dateutil>=2.7->matplotlib) (1.17.0)\n",
      "Requirement already satisfied: seaborn in /Library/Frameworks/Python.framework/Versions/3.12/lib/python3.12/site-packages (0.13.2)\n",
      "Requirement already satisfied: numpy!=1.24.0,>=1.20 in /Library/Frameworks/Python.framework/Versions/3.12/lib/python3.12/site-packages (from seaborn) (2.2.2)\n",
      "Requirement already satisfied: pandas>=1.2 in /Library/Frameworks/Python.framework/Versions/3.12/lib/python3.12/site-packages (from seaborn) (2.2.3)\n",
      "Requirement already satisfied: matplotlib!=3.6.1,>=3.4 in /Library/Frameworks/Python.framework/Versions/3.12/lib/python3.12/site-packages (from seaborn) (3.10.0)\n",
      "Requirement already satisfied: contourpy>=1.0.1 in /Library/Frameworks/Python.framework/Versions/3.12/lib/python3.12/site-packages (from matplotlib!=3.6.1,>=3.4->seaborn) (1.3.1)\n",
      "Requirement already satisfied: cycler>=0.10 in /Library/Frameworks/Python.framework/Versions/3.12/lib/python3.12/site-packages (from matplotlib!=3.6.1,>=3.4->seaborn) (0.12.1)\n",
      "Requirement already satisfied: fonttools>=4.22.0 in /Library/Frameworks/Python.framework/Versions/3.12/lib/python3.12/site-packages (from matplotlib!=3.6.1,>=3.4->seaborn) (4.56.0)\n",
      "Requirement already satisfied: kiwisolver>=1.3.1 in /Library/Frameworks/Python.framework/Versions/3.12/lib/python3.12/site-packages (from matplotlib!=3.6.1,>=3.4->seaborn) (1.4.8)\n",
      "Requirement already satisfied: packaging>=20.0 in /Users/cayetanah/Library/Python/3.12/lib/python/site-packages (from matplotlib!=3.6.1,>=3.4->seaborn) (24.2)\n",
      "Requirement already satisfied: pillow>=8 in /Library/Frameworks/Python.framework/Versions/3.12/lib/python3.12/site-packages (from matplotlib!=3.6.1,>=3.4->seaborn) (11.1.0)\n",
      "Requirement already satisfied: pyparsing>=2.3.1 in /Library/Frameworks/Python.framework/Versions/3.12/lib/python3.12/site-packages (from matplotlib!=3.6.1,>=3.4->seaborn) (3.2.1)\n",
      "Requirement already satisfied: python-dateutil>=2.7 in /Users/cayetanah/Library/Python/3.12/lib/python/site-packages (from matplotlib!=3.6.1,>=3.4->seaborn) (2.9.0.post0)\n",
      "Requirement already satisfied: pytz>=2020.1 in /Library/Frameworks/Python.framework/Versions/3.12/lib/python3.12/site-packages (from pandas>=1.2->seaborn) (2025.1)\n",
      "Requirement already satisfied: tzdata>=2022.7 in /Library/Frameworks/Python.framework/Versions/3.12/lib/python3.12/site-packages (from pandas>=1.2->seaborn) (2025.1)\n",
      "Requirement already satisfied: six>=1.5 in /Users/cayetanah/Library/Python/3.12/lib/python/site-packages (from python-dateutil>=2.7->matplotlib!=3.6.1,>=3.4->seaborn) (1.17.0)\n",
      "Requirement already satisfied: scikit-learn in /Library/Frameworks/Python.framework/Versions/3.12/lib/python3.12/site-packages (1.6.1)\n",
      "Requirement already satisfied: numpy>=1.19.5 in /Library/Frameworks/Python.framework/Versions/3.12/lib/python3.12/site-packages (from scikit-learn) (2.2.2)\n",
      "Requirement already satisfied: scipy>=1.6.0 in /Library/Frameworks/Python.framework/Versions/3.12/lib/python3.12/site-packages (from scikit-learn) (1.15.1)\n",
      "Requirement already satisfied: joblib>=1.2.0 in /Library/Frameworks/Python.framework/Versions/3.12/lib/python3.12/site-packages (from scikit-learn) (1.4.2)\n",
      "Requirement already satisfied: threadpoolctl>=3.1.0 in /Library/Frameworks/Python.framework/Versions/3.12/lib/python3.12/site-packages (from scikit-learn) (3.5.0)\n",
      "Requirement already satisfied: scipy in /Library/Frameworks/Python.framework/Versions/3.12/lib/python3.12/site-packages (1.15.1)\n",
      "Requirement already satisfied: numpy<2.5,>=1.23.5 in /Library/Frameworks/Python.framework/Versions/3.12/lib/python3.12/site-packages (from scipy) (2.2.2)\n",
      "Requirement already satisfied: imbalanced-learn in /Library/Frameworks/Python.framework/Versions/3.12/lib/python3.12/site-packages (0.13.0)\n",
      "Requirement already satisfied: numpy<3,>=1.24.3 in /Library/Frameworks/Python.framework/Versions/3.12/lib/python3.12/site-packages (from imbalanced-learn) (2.2.2)\n",
      "Requirement already satisfied: scipy<2,>=1.10.1 in /Library/Frameworks/Python.framework/Versions/3.12/lib/python3.12/site-packages (from imbalanced-learn) (1.15.1)\n",
      "Requirement already satisfied: scikit-learn<2,>=1.3.2 in /Library/Frameworks/Python.framework/Versions/3.12/lib/python3.12/site-packages (from imbalanced-learn) (1.6.1)\n",
      "Requirement already satisfied: sklearn-compat<1,>=0.1 in /Library/Frameworks/Python.framework/Versions/3.12/lib/python3.12/site-packages (from imbalanced-learn) (0.1.3)\n",
      "Requirement already satisfied: joblib<2,>=1.1.1 in /Library/Frameworks/Python.framework/Versions/3.12/lib/python3.12/site-packages (from imbalanced-learn) (1.4.2)\n",
      "Requirement already satisfied: threadpoolctl<4,>=2.0.0 in /Library/Frameworks/Python.framework/Versions/3.12/lib/python3.12/site-packages (from imbalanced-learn) (3.5.0)\n",
      "Requirement already satisfied: statsmodels in /Library/Frameworks/Python.framework/Versions/3.12/lib/python3.12/site-packages (0.14.4)\n",
      "Requirement already satisfied: numpy<3,>=1.22.3 in /Library/Frameworks/Python.framework/Versions/3.12/lib/python3.12/site-packages (from statsmodels) (2.2.2)\n",
      "Requirement already satisfied: scipy!=1.9.2,>=1.8 in /Library/Frameworks/Python.framework/Versions/3.12/lib/python3.12/site-packages (from statsmodels) (1.15.1)\n",
      "Requirement already satisfied: pandas!=2.1.0,>=1.4 in /Library/Frameworks/Python.framework/Versions/3.12/lib/python3.12/site-packages (from statsmodels) (2.2.3)\n",
      "Requirement already satisfied: patsy>=0.5.6 in /Library/Frameworks/Python.framework/Versions/3.12/lib/python3.12/site-packages (from statsmodels) (1.0.1)\n",
      "Requirement already satisfied: packaging>=21.3 in /Users/cayetanah/Library/Python/3.12/lib/python/site-packages (from statsmodels) (24.2)\n",
      "Requirement already satisfied: python-dateutil>=2.8.2 in /Users/cayetanah/Library/Python/3.12/lib/python/site-packages (from pandas!=2.1.0,>=1.4->statsmodels) (2.9.0.post0)\n",
      "Requirement already satisfied: pytz>=2020.1 in /Library/Frameworks/Python.framework/Versions/3.12/lib/python3.12/site-packages (from pandas!=2.1.0,>=1.4->statsmodels) (2025.1)\n",
      "Requirement already satisfied: tzdata>=2022.7 in /Library/Frameworks/Python.framework/Versions/3.12/lib/python3.12/site-packages (from pandas!=2.1.0,>=1.4->statsmodels) (2025.1)\n",
      "Requirement already satisfied: six>=1.5 in /Users/cayetanah/Library/Python/3.12/lib/python/site-packages (from python-dateutil>=2.8.2->pandas!=2.1.0,>=1.4->statsmodels) (1.17.0)\n"
     ]
    }
   ],
   "source": [
    "# Run this cell if you don't have the following libraries installed\n",
    "!pip3 install xlrd\n",
    "!pip3 install openpyxl\n",
    "\n",
    "!pip3 install pandas\n",
    "!pip3 install matplotlib\n",
    "!pip3 install seaborn\n",
    "!pip3 install scikit-learn\n",
    "!pip3 install scipy \n",
    "!pip3 install imbalanced-learn\n",
    "!pip3 install statsmodels"
   ]
  },
  {
   "cell_type": "code",
   "execution_count": 1772,
   "id": "19ecc356",
   "metadata": {},
   "outputs": [],
   "source": [
    "import pandas as pd\n",
    "import matplotlib.pyplot as plt\n",
    "import seaborn as sns\n",
    "import sklearn\n",
    "import scipy"
   ]
  },
  {
   "cell_type": "markdown",
   "id": "87c786e0",
   "metadata": {},
   "source": [
    "***"
   ]
  },
  {
   "cell_type": "markdown",
   "id": "961a75c8",
   "metadata": {},
   "source": [
    "<div style=\"background: linear-gradient(to right, #3c3c3c, #6e6e6e); color:white; padding:10px; border-radius:10px; font-size:24px; text-align:center;\">\n",
    "    Assignment #1 - Data Preparation\n",
    "</div>\n"
   ]
  },
  {
   "cell_type": "markdown",
   "id": "8b312c1c",
   "metadata": {},
   "source": [
    "# <font color='#3c3c3c'>Task 1</font>"
   ]
  },
  {
   "cell_type": "code",
   "execution_count": 1773,
   "id": "5858d05c",
   "metadata": {},
   "outputs": [
    {
     "data": {
      "text/html": [
       "<div>\n",
       "<style scoped>\n",
       "    .dataframe tbody tr th:only-of-type {\n",
       "        vertical-align: middle;\n",
       "    }\n",
       "\n",
       "    .dataframe tbody tr th {\n",
       "        vertical-align: top;\n",
       "    }\n",
       "\n",
       "    .dataframe thead th {\n",
       "        text-align: right;\n",
       "    }\n",
       "</style>\n",
       "<table border=\"1\" class=\"dataframe\">\n",
       "  <thead>\n",
       "    <tr style=\"text-align: right;\">\n",
       "      <th></th>\n",
       "      <th>pclass</th>\n",
       "      <th>survived</th>\n",
       "      <th>name</th>\n",
       "      <th>sex</th>\n",
       "      <th>age</th>\n",
       "      <th>sibsp</th>\n",
       "      <th>parch</th>\n",
       "      <th>ticket</th>\n",
       "      <th>fare</th>\n",
       "      <th>cabin</th>\n",
       "      <th>embarked</th>\n",
       "      <th>boat</th>\n",
       "      <th>body</th>\n",
       "      <th>home.dest</th>\n",
       "    </tr>\n",
       "  </thead>\n",
       "  <tbody>\n",
       "    <tr>\n",
       "      <th>0</th>\n",
       "      <td>1</td>\n",
       "      <td>1</td>\n",
       "      <td>Allen, Miss. Elisabeth Walton</td>\n",
       "      <td>female</td>\n",
       "      <td>29.0000</td>\n",
       "      <td>0</td>\n",
       "      <td>0</td>\n",
       "      <td>24160</td>\n",
       "      <td>211.3375</td>\n",
       "      <td>B5</td>\n",
       "      <td>S</td>\n",
       "      <td>2</td>\n",
       "      <td>NaN</td>\n",
       "      <td>St Louis, MO</td>\n",
       "    </tr>\n",
       "    <tr>\n",
       "      <th>1</th>\n",
       "      <td>1</td>\n",
       "      <td>1</td>\n",
       "      <td>Allison, Master. Hudson Trevor</td>\n",
       "      <td>male</td>\n",
       "      <td>0.9167</td>\n",
       "      <td>1</td>\n",
       "      <td>2</td>\n",
       "      <td>113781</td>\n",
       "      <td>151.5500</td>\n",
       "      <td>C22 C26</td>\n",
       "      <td>S</td>\n",
       "      <td>11</td>\n",
       "      <td>NaN</td>\n",
       "      <td>Montreal, PQ / Chesterville, ON</td>\n",
       "    </tr>\n",
       "    <tr>\n",
       "      <th>2</th>\n",
       "      <td>1</td>\n",
       "      <td>0</td>\n",
       "      <td>Allison, Miss. Helen Loraine</td>\n",
       "      <td>female</td>\n",
       "      <td>2.0000</td>\n",
       "      <td>1</td>\n",
       "      <td>2</td>\n",
       "      <td>113781</td>\n",
       "      <td>151.5500</td>\n",
       "      <td>C22 C26</td>\n",
       "      <td>S</td>\n",
       "      <td>NaN</td>\n",
       "      <td>NaN</td>\n",
       "      <td>Montreal, PQ / Chesterville, ON</td>\n",
       "    </tr>\n",
       "    <tr>\n",
       "      <th>3</th>\n",
       "      <td>1</td>\n",
       "      <td>0</td>\n",
       "      <td>Allison, Mr. Hudson Joshua Creighton</td>\n",
       "      <td>male</td>\n",
       "      <td>30.0000</td>\n",
       "      <td>1</td>\n",
       "      <td>2</td>\n",
       "      <td>113781</td>\n",
       "      <td>151.5500</td>\n",
       "      <td>C22 C26</td>\n",
       "      <td>S</td>\n",
       "      <td>NaN</td>\n",
       "      <td>135.0</td>\n",
       "      <td>Montreal, PQ / Chesterville, ON</td>\n",
       "    </tr>\n",
       "    <tr>\n",
       "      <th>4</th>\n",
       "      <td>1</td>\n",
       "      <td>0</td>\n",
       "      <td>Allison, Mrs. Hudson J C (Bessie Waldo Daniels)</td>\n",
       "      <td>female</td>\n",
       "      <td>25.0000</td>\n",
       "      <td>1</td>\n",
       "      <td>2</td>\n",
       "      <td>113781</td>\n",
       "      <td>151.5500</td>\n",
       "      <td>C22 C26</td>\n",
       "      <td>S</td>\n",
       "      <td>NaN</td>\n",
       "      <td>NaN</td>\n",
       "      <td>Montreal, PQ / Chesterville, ON</td>\n",
       "    </tr>\n",
       "  </tbody>\n",
       "</table>\n",
       "</div>"
      ],
      "text/plain": [
       "   pclass  survived                                             name     sex  \\\n",
       "0       1         1                    Allen, Miss. Elisabeth Walton  female   \n",
       "1       1         1                   Allison, Master. Hudson Trevor    male   \n",
       "2       1         0                     Allison, Miss. Helen Loraine  female   \n",
       "3       1         0             Allison, Mr. Hudson Joshua Creighton    male   \n",
       "4       1         0  Allison, Mrs. Hudson J C (Bessie Waldo Daniels)  female   \n",
       "\n",
       "       age  sibsp  parch  ticket      fare    cabin embarked boat   body  \\\n",
       "0  29.0000      0      0   24160  211.3375       B5        S    2    NaN   \n",
       "1   0.9167      1      2  113781  151.5500  C22 C26        S   11    NaN   \n",
       "2   2.0000      1      2  113781  151.5500  C22 C26        S  NaN    NaN   \n",
       "3  30.0000      1      2  113781  151.5500  C22 C26        S  NaN  135.0   \n",
       "4  25.0000      1      2  113781  151.5500  C22 C26        S  NaN    NaN   \n",
       "\n",
       "                         home.dest  \n",
       "0                     St Louis, MO  \n",
       "1  Montreal, PQ / Chesterville, ON  \n",
       "2  Montreal, PQ / Chesterville, ON  \n",
       "3  Montreal, PQ / Chesterville, ON  \n",
       "4  Montreal, PQ / Chesterville, ON  "
      ]
     },
     "execution_count": 1773,
     "metadata": {},
     "output_type": "execute_result"
    }
   ],
   "source": [
    "\"\"\"When I did this task I ran into some issues dowloading the dataset. \n",
    "After a few minutes I realized that the newest version of xlrd was no \n",
    "longer compatible with .xls files so I decided to change the format of \n",
    "the file to .xlsx to load it. I decided to do since I was struggling to \n",
    "download an old version of xlrd. \"\"\"\n",
    "\n",
    "df = pd.read_excel(\"titanic.xlsx\")\n",
    "df.head()"
   ]
  },
  {
   "cell_type": "markdown",
   "id": "d5309c94",
   "metadata": {},
   "source": [
    "It is important to understand the structure of the data before modifying or transforming the data. By performing exploratory data analysis (EDA), we can detect missing values, identify outliers, understand feature distributions, and recognize potential relationships between variables. Visualizations provide further insights by making it easier to understand the data. "
   ]
  },
  {
   "cell_type": "markdown",
   "id": "7802b4a5",
   "metadata": {},
   "source": [
    "### <font color='6e6e6e'>Exploratory Statistics</font>"
   ]
  },
  {
   "cell_type": "markdown",
   "id": "c4508188",
   "metadata": {},
   "source": [
    "First, I will use describe() (it was very commmon in our other courses), so I decided to give it a try to get a few details of the dataframe (count, mean, min/max, etc)"
   ]
  },
  {
   "cell_type": "code",
   "execution_count": 1774,
   "id": "8592ab24",
   "metadata": {},
   "outputs": [
    {
     "name": "stdout",
     "output_type": "stream",
     "text": [
      "            pclass     survived          age        sibsp        parch  \\\n",
      "count  1309.000000  1309.000000  1046.000000  1309.000000  1309.000000   \n",
      "mean      2.294882     0.381971    29.881135     0.498854     0.385027   \n",
      "std       0.837836     0.486055    14.413500     1.041658     0.865560   \n",
      "min       1.000000     0.000000     0.166700     0.000000     0.000000   \n",
      "25%       2.000000     0.000000    21.000000     0.000000     0.000000   \n",
      "50%       3.000000     0.000000    28.000000     0.000000     0.000000   \n",
      "75%       3.000000     1.000000    39.000000     1.000000     0.000000   \n",
      "max       3.000000     1.000000    80.000000     8.000000     9.000000   \n",
      "\n",
      "              fare        body  \n",
      "count  1308.000000  121.000000  \n",
      "mean     33.295479  160.809917  \n",
      "std      51.758668   97.696922  \n",
      "min       0.000000    1.000000  \n",
      "25%       7.895800   72.000000  \n",
      "50%      14.454200  155.000000  \n",
      "75%      31.275000  256.000000  \n",
      "max     512.329200  328.000000  \n"
     ]
    }
   ],
   "source": [
    "print(df.describe())"
   ]
  },
  {
   "cell_type": "markdown",
   "id": "b46bc1f3",
   "metadata": {},
   "source": [
    "\n",
    "The results weren't the most helpful; it didn't even show all the columns in the dataset. It did let us know that there are 1309 entries and a few intresting insights, but nothing extremely helpful. Now let's try a different function, info(). "
   ]
  },
  {
   "cell_type": "code",
   "execution_count": 1775,
   "id": "bab4a82d",
   "metadata": {},
   "outputs": [
    {
     "name": "stdout",
     "output_type": "stream",
     "text": [
      "<class 'pandas.core.frame.DataFrame'>\n",
      "RangeIndex: 1309 entries, 0 to 1308\n",
      "Data columns (total 14 columns):\n",
      " #   Column     Non-Null Count  Dtype  \n",
      "---  ------     --------------  -----  \n",
      " 0   pclass     1309 non-null   int64  \n",
      " 1   survived   1309 non-null   int64  \n",
      " 2   name       1309 non-null   object \n",
      " 3   sex        1309 non-null   object \n",
      " 4   age        1046 non-null   float64\n",
      " 5   sibsp      1309 non-null   int64  \n",
      " 6   parch      1309 non-null   int64  \n",
      " 7   ticket     1309 non-null   object \n",
      " 8   fare       1308 non-null   float64\n",
      " 9   cabin      295 non-null    object \n",
      " 10  embarked   1307 non-null   object \n",
      " 11  boat       486 non-null    object \n",
      " 12  body       121 non-null    float64\n",
      " 13  home.dest  745 non-null    object \n",
      "dtypes: float64(3), int64(4), object(7)\n",
      "memory usage: 143.3+ KB\n",
      "None\n"
     ]
    }
   ],
   "source": [
    "print(df.info())"
   ]
  },
  {
   "cell_type": "markdown",
   "id": "d7bb69fc",
   "metadata": {},
   "source": [
    "This method was more helpful since it helped me with a bit more information about the dataset. Again, it showed us that there are 1309 entries, which is a manageable amount of data to practice ML. We also know that there are 14 columns per entry of which 7 are categorical (which we will have to encode later on) and 7 are numerical. It also provides information about the null values present in each column. Since we have 1309 entires then pclass, survived, name, sex, sibsp, parch, and ticket columns are the only ones that have no missing values. We will just keep this in mind for now and address this in the next task."
   ]
  },
  {
   "cell_type": "markdown",
   "id": "8c3c75db",
   "metadata": {},
   "source": [
    "Addtionally, it is always important to check for duplicates in the dataset to avoid bias. If there multiple entries with the same information it could skew the data, adding bias not only to the analysis but to the model (it could learn patterns)"
   ]
  },
  {
   "cell_type": "code",
   "execution_count": 1776,
   "id": "e3c3a00a",
   "metadata": {},
   "outputs": [
    {
     "data": {
      "text/plain": [
       "np.int64(0)"
      ]
     },
     "execution_count": 1776,
     "metadata": {},
     "output_type": "execute_result"
    }
   ],
   "source": [
    "df.duplicated().sum()"
   ]
  },
  {
   "cell_type": "markdown",
   "id": "ec9ddf9a",
   "metadata": {},
   "source": [
    "Luckily, the data has no duplicates. "
   ]
  },
  {
   "cell_type": "markdown",
   "id": "ab21160d",
   "metadata": {},
   "source": [
    "We can also try and see if there are any correlated features in the dataset, but I believe we can only do this for the numerical columns (or at least I only know how to do it with the numerical ones)"
   ]
  },
  {
   "cell_type": "code",
   "execution_count": 1777,
   "id": "5c461216",
   "metadata": {},
   "outputs": [
    {
     "name": "stdout",
     "output_type": "stream",
     "text": [
      "            pclass  survived       age     sibsp     parch      fare      body\n",
      "pclass    1.000000 -0.312469 -0.408106  0.060832  0.018322 -0.558629 -0.034642\n",
      "survived -0.312469  1.000000 -0.055513 -0.027825  0.082660  0.244265       NaN\n",
      "age      -0.408106 -0.055513  1.000000 -0.243699 -0.150917  0.178739  0.058809\n",
      "sibsp     0.060832 -0.027825 -0.243699  1.000000  0.373587  0.160238 -0.099961\n",
      "parch     0.018322  0.082660 -0.150917  0.373587  1.000000  0.221539  0.051099\n",
      "fare     -0.558629  0.244265  0.178739  0.160238  0.221539  1.000000 -0.043110\n",
      "body     -0.034642       NaN  0.058809 -0.099961  0.051099 -0.043110  1.000000\n"
     ]
    }
   ],
   "source": [
    "correlations = df.corr(numeric_only=True)\n",
    "print(correlations)"
   ]
  },
  {
   "cell_type": "markdown",
   "id": "d6222769",
   "metadata": {},
   "source": [
    "From the results, we can see that most correlations are weak, with values mostly below 0.60. There are a few negative correlations, but none appear particularly strong. Since interpreting numerical correlation values directly can be challenging, a heatmap would typically help identify patterns more easily. However, based on the numerical results alone, it is already evident that there are no strong correlations. I'll further analyze this after encoding since there can be new possible correlations then."
   ]
  },
  {
   "cell_type": "markdown",
   "id": "af530047",
   "metadata": {},
   "source": [
    "### <font color='6e6e6e'>Numerical Features Visualizations</font>"
   ]
  },
  {
   "cell_type": "markdown",
   "metadata": {},
   "source": [
    "I will start by visualizing the distributions of the numerical features. I believe this will guide me to make further visualizations. "
   ]
  },
  {
   "cell_type": "code",
   "execution_count": 1778,
   "id": "28c30ea8",
   "metadata": {},
   "outputs": [
    {
     "data": {
      "image/png": "[encoded data removed]",
      "text/plain": [
       "<Figure size 1000x800 with 9 Axes>"
      ]
     },
     "metadata": {},
     "output_type": "display_data"
    }
   ],
   "source": [
    "df.hist(figsize=(10, 8), color='skyblue', edgecolor='white')\n",
    "plt.show()"
   ]
  },
  {
   "cell_type": "markdown",
   "id": "dcb32b7e",
   "metadata": {},
   "source": [
    "These histograms provide a quick insight into each of the columns.\n",
    "\n"
   ]
  },
  {
   "cell_type": "markdown",
   "id": "f83ced75",
   "metadata": {},
   "source": [
    "The **pclass** column graph makes it clear that there much more people from the third class than the first and second classes in the dataset. There are between 550 passengers that belong to the first and second class, while around 800 belong to the third class. \n",
    "\n",
    "The **survived** column graph tells us that there are about 800 people that didn't survive, which is much more than those approximately 500 that did. \n",
    "\n",
    "As we previously saw with describe(), passengers' mean age was around 29-30. The **age** column graph shows us that most passengers were around 20 years old, while around 70 passengers were 0-10 years old, and very few passengers were more that 60 years old. This means that there were more young adults and kids than there were old adults (right skewed). \n",
    "\n",
    "The **sibsp** and **parch** columns show that majority of the passengers had less than 2 companions on-board. Some had one companion (probably spouses or kids), and very few had families on-board (few outliers). \n",
    "\n",
    "The **fares** column shos that majority of passengers paid low fares, which we already knew since majority of passengers were traveling in third class. Still, there are a few passengers who paid more that 200 and a few outliers who paid more that 500. \n",
    "\n",
    "Finally, the last graph on the **body** column is not relevant since this is the column that just tells us the number of the found bodies. "
   ]
  },
  {
   "cell_type": "markdown",
   "id": "99acc6cb",
   "metadata": {},
   "source": [
    "These histograms provided useful information about skewness and outliers, which we will have to deal with in later tasks. Nevertheless, the histograms provided information on individual variables. Now I want to get information on relationships, specifically the survival rates across the different numerical columns. I will use barplots for easy analysis and print the number of passengers per category. This way, I will know if the relationship is biased. "
   ]
  },
  {
   "cell_type": "code",
   "execution_count": 1779,
   "id": "0af0bbc9",
   "metadata": {},
   "outputs": [
    {
     "data": {
      "image/png": "[encoded data removed]",
      "text/plain": [
       "<Figure size 500x300 with 1 Axes>"
      ]
     },
     "metadata": {},
     "output_type": "display_data"
    }
   ],
   "source": [
    "plt.figure(figsize =(5,3))\n",
    "sns.barplot(x=\"pclass\", y=\"survived\", data=df, errorbar=None, color='skyblue') \n",
    "plt.xlabel(\"Pclass\")\n",
    "plt.ylabel(\"Survival Rate\")\n",
    "plt.title(\"Survival Rate by Pclass\")\n",
    "plt.show()"
   ]
  },
  {
   "cell_type": "code",
   "execution_count": 1780,
   "id": "fc94be81",
   "metadata": {},
   "outputs": [
    {
     "name": "stdout",
     "output_type": "stream",
     "text": [
      "        count      mean\n",
      "pclass                 \n",
      "1         323  0.619195\n",
      "2         277  0.429603\n",
      "3         709  0.255289\n"
     ]
    }
   ],
   "source": [
    "# I will create a copy to avoid modifying the original dataset since I am just exploring for now\n",
    "df_copy = df.copy()\n",
    "\n",
    "pclass_counts = df_copy.groupby('pclass')['survived'].agg(['count', 'mean'])\n",
    "print(pclass_counts)"
   ]
  },
  {
   "cell_type": "markdown",
   "id": "1052a2de",
   "metadata": {},
   "source": [
    "**Surival Rate vs Pclass**\n",
    "\n",
    "The graph shows a clear **linear relationship**. As expected, the survival rate for passengers in the first class is much higher than that in the third class. The barplot clearly shows this trend: the higher the class, the higher the survival rate. While the survival rate in the first class is about 60%, it drops to less than 30% in the second class. This is interesting, given that the third class made up a larger proportion of the passengers. Therefore, it’s intuitive that fewer third-class passengers survived and probably make most of the dead passengers. We can confirm this by printing the quantity of passengers in each class. Only 277 passengers belonged to second class, while 709 passengers belonged to the third class. "
   ]
  },
  {
   "cell_type": "code",
   "execution_count": 1781,
   "id": "88085d19",
   "metadata": {},
   "outputs": [
    {
     "data": {
      "image/png": "[encoded data removed]",
      "text/plain": [
       "<Figure size 500x300 with 1 Axes>"
      ]
     },
     "metadata": {},
     "output_type": "display_data"
    }
   ],
   "source": [
    "plt.figure(figsize =(5,3))\n",
    "sns.barplot(x=\"sibsp\", y=\"survived\", data=df, errorbar=None, color='skyblue')\n",
    "plt.xlabel(\"Number of siblings/spouses\")\n",
    "plt.ylabel(\"Surviva; Rate\")\n",
    "plt.title(\"Survival Rate by Number of Siblings/Spouses\")\n",
    "plt.show()"
   ]
  },
  {
   "cell_type": "code",
   "execution_count": 1782,
   "id": "ebbdd46d",
   "metadata": {},
   "outputs": [
    {
     "name": "stdout",
     "output_type": "stream",
     "text": [
      "       count      mean\n",
      "sibsp                 \n",
      "0        891  0.346801\n",
      "1        319  0.510972\n",
      "2         42  0.452381\n",
      "3         20  0.300000\n",
      "4         22  0.136364\n",
      "5          6  0.000000\n",
      "8          9  0.000000\n"
     ]
    }
   ],
   "source": [
    "sibsp_counts = df_copy.groupby('sibsp')['survived'].agg(['count', 'mean'])\n",
    "print(sibsp_counts)"
   ]
  },
  {
   "cell_type": "markdown",
   "id": "b8080fb3",
   "metadata": {},
   "source": [
    "**Survival Rate vs Number of siblings/spouses**\n",
    "\n",
    "Additionally, I visualized survival rates by the number of siblings/spouses on board. The results showed that passengers traveling alone had a lower survival rate compared to those with one companion, while those with more than one companion had a decreased survival rate. This is an intresting insight. I would have guessed that this relationship was linear and that being alone would increase your chances of survival that having one other companion."
   ]
  },
  {
   "cell_type": "code",
   "execution_count": 1783,
   "id": "3ccc5489",
   "metadata": {},
   "outputs": [
    {
     "data": {
      "image/png": "[encoded data removed]",
      "text/plain": [
       "<Figure size 500x300 with 1 Axes>"
      ]
     },
     "metadata": {},
     "output_type": "display_data"
    }
   ],
   "source": [
    "plt.figure(figsize =(5,3))\n",
    "sns.barplot(x=\"parch\", y=\"survived\", data=df, errorbar=None, color='skyblue')\n",
    "plt.xlabel(\"Number of parents/children\")\n",
    "plt.ylabel(\"Surviva; Rate\")\n",
    "plt.title(\"Survival Rate by Number of Parents/Children\")\n",
    "plt.show()"
   ]
  },
  {
   "cell_type": "code",
   "execution_count": 1784,
   "id": "b761b6a8",
   "metadata": {},
   "outputs": [
    {
     "name": "stdout",
     "output_type": "stream",
     "text": [
      "       count      mean\n",
      "parch                 \n",
      "0       1002  0.335329\n",
      "1        170  0.588235\n",
      "2        113  0.504425\n",
      "3          8  0.625000\n",
      "4          6  0.166667\n",
      "5          6  0.166667\n",
      "6          2  0.000000\n",
      "9          2  0.000000\n"
     ]
    }
   ],
   "source": [
    "parch_counts = df_copy.groupby('parch')['survived'].agg(['count', 'mean'])\n",
    "print(parch_counts)"
   ]
  },
  {
   "cell_type": "markdown",
   "id": "06f90f5c",
   "metadata": {},
   "source": [
    "**Survival Rate vs Number of parents/children**\n",
    "\n",
    "This pattern also holds for the relationship with the number of parents/children. Most passengers had between 0 and 2 parents/children on board. Although the graph shows that the survival rate slightly increased for those with 3 parents/children, we must note that this applied to only 8 passengers. This reinforces the conclusion that having one companion increased the chances of survival compared to being alone, but having more than one companion appeared to decrease survival chances."
   ]
  },
  {
   "cell_type": "code",
   "execution_count": 1785,
   "id": "d51ca42f",
   "metadata": {},
   "outputs": [
    {
     "data": {
      "image/png": "[encoded data removed]",
      "text/plain": [
       "<Figure size 500x300 with 1 Axes>"
      ]
     },
     "metadata": {},
     "output_type": "display_data"
    }
   ],
   "source": [
    "df_parch_sibsp = df.copy() # I created a copy to not mess with the original dataset \n",
    "\n",
    "df_parch_sibsp['companions'] = df_parch_sibsp['sibsp'] + df_parch_sibsp['parch']\n",
    "\n",
    "plt.figure(figsize=(5,3))\n",
    "sns.barplot(x='companions', y='survived', data=df_parch_sibsp, errorbar=None, color=\"skyblue\")\n",
    "plt.xlabel('Companions on-board (sibsp + parch)')\n",
    "plt.ylabel('Survival Rate')\n",
    "plt.title('Survival Rate by Family Size')\n",
    "plt.show()\n"
   ]
  },
  {
   "cell_type": "code",
   "execution_count": 1786,
   "id": "bd0aa3e5",
   "metadata": {},
   "outputs": [
    {
     "name": "stdout",
     "output_type": "stream",
     "text": [
      "            count      mean\n",
      "companions                 \n",
      "0             790  0.302532\n",
      "1             235  0.536170\n",
      "2             159  0.566038\n",
      "3              43  0.697674\n",
      "4              22  0.272727\n",
      "5              25  0.200000\n",
      "6              16  0.250000\n",
      "7               8  0.000000\n",
      "10             11  0.000000\n"
     ]
    }
   ],
   "source": [
    "parch_counts = df_parch_sibsp.groupby('companions')['survived'].agg(['count', 'mean'])\n",
    "print(parch_counts)"
   ]
  },
  {
   "cell_type": "markdown",
   "id": "7573b93a",
   "metadata": {},
   "source": [
    "**Survival Rate vs Companions on-board**\n",
    "\n",
    "I just wanted to see how the graph would change if I combined both sibsp and parch since both columns represent passengers' companions. The graph is not consistent with the previous results. While it shows that passengers are not better off being alone, the graph shows that passengers have a better chance of surviving if they have 3 companions rather than 1. It is important to note that there are significantly less passengeres with 3 companions than with 1 or 2. The small sample size for those with 3 companions could be skewing the result. \n",
    "Furthermore, the graph clearly indicates that as the number of companions increases beyond 2 or 3, the chances of survival tend to decrease, supporting the idea that larger groups might have faced more challenges or were less likely to survive."
   ]
  },
  {
   "cell_type": "markdown",
   "id": "66dc8fe7",
   "metadata": {},
   "source": [
    "I want to further analyze the relationships with the other relevant columns so we have to find a way to group the data and graph it. We will graph the relationships between survival rate and **age** and **fare** since the relationship with found bodies is not relevant."
   ]
  },
  {
   "cell_type": "code",
   "execution_count": 1787,
   "id": "bfcdb4cf",
   "metadata": {},
   "outputs": [
    {
     "data": {
      "image/png": "[encoded data removed]",
      "text/plain": [
       "<Figure size 600x400 with 1 Axes>"
      ]
     },
     "metadata": {},
     "output_type": "display_data"
    }
   ],
   "source": [
    "age_bins = [0, 10, 20, 30, 40, 50, 60, 70, 80, df['age'].max() + 1]\n",
    "age_ranges = ['0-10', '10-20', '20-30', '30-40', '40-50', '50-60', '60-70', '70-80', '80+']\n",
    "\n",
    "df_copy['age_group'] = pd.cut(df_copy['age'], bins=age_bins, labels=age_ranges, right=False)\n",
    "\n",
    "age_survival_rate = df_copy.groupby('age_group', observed=False)['survived'].mean()\n",
    "\n",
    "plt.figure(figsize =(6,4))\n",
    "sns.barplot(x=age_survival_rate.index, y=age_survival_rate.values, color='skyblue')\n",
    "\n",
    "plt.title(\"Surival Rate by Passenger Age Range\")\n",
    "plt.xlabel(\"Age Range\")\n",
    "plt.ylabel(\"Surival Rate\")\n",
    "\n",
    "plt.show()\n"
   ]
  },
  {
   "cell_type": "markdown",
   "id": "a20f0fb8",
   "metadata": {},
   "source": [
    "It seems odd that kids have such a high survival rate and that elderly have a 100% of survival rate, so I want to check how many passengers fall in each age group. This helps to clarify things because, for example, if there were only 5 people in the 80+ age group, and all 5 happened to survive, then of course that the survival rate would be 100%."
   ]
  },
  {
   "cell_type": "code",
   "execution_count": 1788,
   "id": "96435431",
   "metadata": {},
   "outputs": [
    {
     "name": "stdout",
     "output_type": "stream",
     "text": [
      "           count      mean\n",
      "age_group                 \n",
      "0-10          82  0.609756\n",
      "10-20        143  0.391608\n",
      "20-30        344  0.369186\n",
      "30-40        232  0.422414\n",
      "40-50        135  0.385185\n",
      "50-60         70  0.457143\n",
      "60-70         32  0.312500\n",
      "70-80          7  0.142857\n",
      "80+            1  1.000000\n"
     ]
    }
   ],
   "source": [
    "age_group_counts = df_copy.groupby('age_group', observed=False)['survived'].agg(['count', 'mean'])\n",
    "print(age_group_counts)"
   ]
  },
  {
   "cell_type": "markdown",
   "id": "0341131c",
   "metadata": {},
   "source": [
    "**Surival Rate vs Age Range**\n",
    "\n",
    "The results make the graph much more clear. I made an assumption earlier that kids had a lower change of survival but even though the sample is still small, 82, it make sense that babies/kids had a higher survival rate since their safety was probably prioritized. Additionally, we should disregard the age group 80+ since there is only one sample. \n",
    "\n",
    "\n",
    "In conclusion, there seems to be a relationship between age and survival rate, yet, it is a **non-linear relationship**. Kids/babies had a higher chance of survival, elderly had a lower chance of survival, while middle-aged passengers had a survival rate from ~37% to ~ 46%. Since the sample sizes in some age groups are small, we should be cautious about drawing strict conclusions."
   ]
  },
  {
   "cell_type": "markdown",
   "id": "320bf684",
   "metadata": {},
   "source": [
    "Now moving on with graphing the relationship between survival rate and fares. Hopefully there is a relationship similar to the one we got with passenger classes since fare prices determine the class. We will also print the number of passengers in each fare range to be able to anaylze accordingly."
   ]
  },
  {
   "cell_type": "code",
   "execution_count": 1789,
   "id": "1d205dd3",
   "metadata": {},
   "outputs": [
    {
     "name": "stdout",
     "output_type": "stream",
     "text": [
      "Min Fare: 0.0\n",
      "Max Fare: 512.3292\n"
     ]
    }
   ],
   "source": [
    "# First I need to find min and max fares to know how to split the bins\n",
    "\n",
    "min_fare = df['fare'].min()\n",
    "max_fare = df['fare'].max()\n",
    "\n",
    "print(\"Min Fare:\", min_fare)\n",
    "print(\"Max Fare:\", max_fare)"
   ]
  },
  {
   "cell_type": "code",
   "execution_count": 1790,
   "id": "0ffcc9f9",
   "metadata": {},
   "outputs": [
    {
     "data": {
      "image/png": "[encoded data removed]",
      "text/plain": [
       "<Figure size 500x300 with 1 Axes>"
      ]
     },
     "metadata": {},
     "output_type": "display_data"
    }
   ],
   "source": [
    "# Now that we know the min and max we can split the bins accordingly\n",
    "\n",
    "fare_bins = [0, 50, 100, 200, 300, 512.33]\n",
    "fare_ranges = ['0-50', '50-100', '100-200', '200-300', '300+']\n",
    "\n",
    "\n",
    "df_copy['fare_group'] = pd.cut(df_copy['fare'], bins=fare_bins, labels=fare_ranges, right=False)\n",
    "\n",
    "fare_survival_rate = df_copy.groupby('fare_group', observed=False)['survived'].mean()\n",
    "\n",
    "\n",
    "plt.figure(figsize=(5, 3))\n",
    "sns.barplot(x=fare_survival_rate.index, y=fare_survival_rate.values, color='skyblue')\n",
    "plt.title(\"Survival Rate by Fare Range\")\n",
    "plt.xlabel(\"Fare Range\")\n",
    "plt.ylabel(\"Survival Rate\")\n",
    "\n",
    "plt.show()\n"
   ]
  },
  {
   "cell_type": "code",
   "execution_count": 1791,
   "id": "36c45484",
   "metadata": {},
   "outputs": [
    {
     "name": "stdout",
     "output_type": "stream",
     "text": [
      "            count      mean\n",
      "fare_group                 \n",
      "0-50         1066  0.320826\n",
      "50-100        158  0.620253\n",
      "100-200        46  0.739130\n",
      "200-300        34  0.647059\n",
      "300+            4  1.000000\n"
     ]
    }
   ],
   "source": [
    "fare_group_counts = df_copy.groupby('fare_group', observed=False)['survived'].agg(['count', 'mean'])\n",
    "print(fare_group_counts)"
   ]
  },
  {
   "cell_type": "markdown",
   "id": "ddabc167",
   "metadata": {},
   "source": [
    "Based on the results it seems that there is a positive relationship between fare range and survival rate (which is what we expected!). Passengers paying higher fares (and thus likely traveling in higher-class cabins) have a higher chance of survival. However, the graph does show that the fare range between 200 and 300 has a higher survival rate that the fare range between 100 and 200. Again, there are very few passengers in these ranges; sample sizes are small so we shouldn't draw strict conclusions. "
   ]
  },
  {
   "cell_type": "markdown",
   "id": "c7e8dfe5",
   "metadata": {},
   "source": [
    "### <font color='6e6e6e'>Categorical Variables Visuzalizations</font>"
   ]
  },
  {
   "cell_type": "markdown",
   "id": "be76a801",
   "metadata": {},
   "source": [
    "Now moving on the categorical columns, we will graph the relationship between survival rate and the most relevant columns, sex and embarked ."
   ]
  },
  {
   "cell_type": "code",
   "execution_count": 1792,
   "id": "9c77098f",
   "metadata": {},
   "outputs": [
    {
     "data": {
      "image/png": "[encoded data removed]",
      "text/plain": [
       "<Figure size 500x300 with 1 Axes>"
      ]
     },
     "metadata": {},
     "output_type": "display_data"
    }
   ],
   "source": [
    "plt.figure(figsize=(5, 3))\n",
    "sns.barplot(x=df['sex'], y=df['survived'], color='skyblue')\n",
    "\n",
    "plt.title('Survival Rate by Sex')\n",
    "plt.ylabel('Survival Rate')\n",
    "plt.xlabel('Sex')\n",
    "plt.show()"
   ]
  },
  {
   "cell_type": "markdown",
   "id": "a6f10468",
   "metadata": {},
   "source": [
    "**Survival Rate vs Sex**:\n",
    "As expected, females have a higher chance of survival, with their survival rate being more than three times higher than that of males."
   ]
  },
  {
   "cell_type": "code",
   "execution_count": 1793,
   "id": "1a8a4b1e",
   "metadata": {},
   "outputs": [
    {
     "data": {
      "image/png": "[encoded data removed]",
      "text/plain": [
       "<Figure size 500x300 with 1 Axes>"
      ]
     },
     "metadata": {},
     "output_type": "display_data"
    }
   ],
   "source": [
    "plt.figure(figsize=(5, 3))\n",
    "sns.barplot(x=df['embarked'], y=df['survived'], color='skyblue')\n",
    "\n",
    "plt.title('Survival Rate by Embarkation Port')\n",
    "plt.ylabel('Survival Rate')\n",
    "plt.xlabel('Embarked')\n",
    "plt.show()"
   ]
  },
  {
   "cell_type": "markdown",
   "id": "f426c1a4",
   "metadata": {},
   "source": [
    "**Survival Rate vs Embarkation Port**:\n",
    "Results show that passengers who embarked on port C had the highest chance of survival, ~55%, while passengers who embarked on posrt S and Q had similar survival rate, ~34% and ~36%. "
   ]
  },
  {
   "cell_type": "markdown",
   "id": "8dd51b0e",
   "metadata": {},
   "source": [
    "### <font color='6e6e6e'>Task 1 Summary</font>"
   ]
  },
  {
   "cell_type": "markdown",
   "id": "f8918378",
   "metadata": {},
   "source": [
    "**Numerical parameters** \n",
    "\n",
    "    - Survival Rate vs. **Pclass**: The higher the class (1 being the highest and 3 being the lowest), the higher the survival rate.\n",
    "    - Survival Rate vs. **Age**: There is a non-linear relationship, with kids and babies having the highest survival rates.\n",
    "    - Survival Rate vs. **Sibsp**: Having 1 companion increases the chances of survival compared to having no companions, but having more than one companion decreases the survival rate.\n",
    "    - Survival Rate vs. **Parch**: Similar to Sibsp, having 1 companion increases the chances of survival compared to having none, but having more than one decreases the chances. The graph shows that 3 companions have the highest survival rate, but the sample size is very small.\n",
    "    - Survival Rate vs. **Fare**: There is a positive relationship; the higher the fare, the higher the chances of survival.\n",
    "\n",
    "**Categorical parameters**\n",
    "\n",
    "    - Survival Rate vs. **Sex**: Females had almost four times the chance of survival compared to males.\n",
    "    - Survival Rate vs. **Embarked**: Passengers who embarked at port C had a higher survival rate, while those who embarked at ports S and Q had similar survival rates."
   ]
  },
  {
   "cell_type": "markdown",
   "id": "a38fe3a0",
   "metadata": {},
   "source": [
    "### <font color='6e6e6e'>Why are the findings meaningful?</font>\n",
    "\n",
    "The findings in task 1 are meaningful for the stage of data preparation becuase we gained insights on possible relationships and sample sizes. Knowing the possible relationships help us identify important features that we should further analyze and those that we should encode for machine learning models. Additionally, analyzing distributions and sample sizes helps us identify outliers and highlight the importance of data balancing in some areas. This will help us for decision-making later on. "
   ]
  },
  {
   "cell_type": "markdown",
   "id": "fd28552b",
   "metadata": {},
   "source": [
    "# <font color='#3c3c3c'>Task 2 and 5</font>"
   ]
  },
  {
   "cell_type": "markdown",
   "id": "0b196a0b",
   "metadata": {},
   "source": [
    "### <font color='6e6e6e'>Missing values</font>\n"
   ]
  },
  {
   "cell_type": "markdown",
   "id": "6ab56f4f",
   "metadata": {},
   "source": [
    "When I used info() it already provided me with the number of non-null values per column, but we can further analyze this to get a clearer idea of the missing values. We will now use isnull() and sum() so we get the number of missing values instead of having to subtract the non-null values from the total number of entries per column."
   ]
  },
  {
   "cell_type": "code",
   "execution_count": 1794,
   "id": "44f4b5a4",
   "metadata": {},
   "outputs": [
    {
     "name": "stdout",
     "output_type": "stream",
     "text": [
      "age           263\n",
      "fare            1\n",
      "cabin        1014\n",
      "embarked        2\n",
      "boat          823\n",
      "body         1188\n",
      "home.dest     564\n",
      "dtype: int64\n"
     ]
    }
   ],
   "source": [
    "missing_values = df.isnull().sum()\n",
    "print(missing_values[missing_values > 0])"
   ]
  },
  {
   "cell_type": "markdown",
   "id": "e8836977",
   "metadata": {},
   "source": [
    "The isnull() function now clearly states the number of null values per column. As we already knew, there are 7 columns that have null values. The columns that have the most missing values are the cabin and, boat, and body columns. This makes sense since most passengers that were assigned cabins belonged to the first class (so missing cabin likely refer to third class passengers), only survivors had boats, and only non-survivors had bodies to be found. To further analyze what strategy to use for the missing values it will be useful to know the percentage of missing values per column."
   ]
  },
  {
   "cell_type": "code",
   "execution_count": 1795,
   "id": "d90d8361",
   "metadata": {},
   "outputs": [
    {
     "name": "stdout",
     "output_type": "stream",
     "text": [
      "age          20.091673\n",
      "fare          0.076394\n",
      "cabin        77.463713\n",
      "embarked      0.152788\n",
      "boat         62.872422\n",
      "body         90.756303\n",
      "home.dest    43.086325\n",
      "dtype: float64\n"
     ]
    }
   ],
   "source": [
    "missing_values_percentage = (df.isnull().sum() / len(df)) * 100\n",
    "print(missing_values_percentage[missing_values_percentage > 0])"
   ]
  },
  {
   "cell_type": "markdown",
   "id": "01b3f53c",
   "metadata": {},
   "source": [
    "Considering there are several strategies that could be applied to handle missing values and that there is no way of knowing which is the best technique until after model validation, we have to make an educated guess by anaylzing the previous data anaylysis be made of each column. \n",
    "\n",
    "Before doing that I want to think about whether or not we should drop or not the columns with missing values. \n",
    "- **age**: This column is relevant due to a possible relationship with survival rate as we saw before in task #1. Therfore, we should not drop this column. \n",
    "\n",
    "- **fare**: This column is relevant due to a possible relation but it does go hand in hand with pclass so maybe it is a bit redundant. We can keep for now.\n",
    "\n",
    "- **cabin**: This column is relevant since the cabin probably tells us the class the passengers belonged too, but again it could be redundant. It would be more helpful if we had more information on where the cabins were located. Addtionally, 77% of the entries are missing so we can drop it.\n",
    "\n",
    "- **embarked**: This column could give us further insights and there not even 1% of missing values so we can keep it for now.\n",
    "\n",
    "- **boat**: This columns is not relevant since the survival column already tells us if the passenger survived, and since boats are only for those who survived it won't help us. We should drop it.\n",
    "\n",
    "- **body**: Again, this column is not relevant. If a passenger's body is found it won't help us determine if a passenger will survive or not. We should drop it. \n",
    "\n",
    "- **home.dest**: There is little potential this is helpful and there's almost 50% of the data missing. I'm going to take a chance and drop it. \n",
    "\n",
    "\n"
   ]
  },
  {
   "cell_type": "code",
   "execution_count": 1796,
   "id": "a43e607b",
   "metadata": {},
   "outputs": [],
   "source": [
    "# I decided to create this function becuase I had trouble when I wanted to re-run the dropping cells\n",
    "def drop_columns_if_exist(df, columns):\n",
    "    columns_to_drop = [col for col in columns if col in df.columns]  \n",
    "    if columns_to_drop:  \n",
    "        df.drop(columns=columns_to_drop, inplace=True)\n",
    "    return df  \n",
    "\n",
    "\n",
    "df = drop_columns_if_exist(df, ['cabin', 'boat', 'body', 'home.dest'])"
   ]
  },
  {
   "cell_type": "markdown",
   "id": "100c4db4",
   "metadata": {},
   "source": [
    "Now that I analyzed the columns that I can drop I can move on to data imputation (Quick Note: if the data was much larger, we could consider getting rid of the entries(rows) with missing values. But, our dataset is not only not large enough, but some of the columns are meant to have missing values, like the body and boat columns. That's why I will drop those columns but keep the rest of the entries). \n",
    "\n",
    "- age: The distribution across age in this dataset follows an approximate normal distibution (according to the graph in task #1). Therefore, I believe that a good data imputation technique would be using the mean or median. I prefer the median because it's more robust to outliers, ensuring that extreme values don’t skew the imputed age. \n",
    "\n",
    "- fare: Considering that most passengers paid low fares, making it right skewed, it will also be better to use the median. \n",
    "\n",
    "- embarked: Since this column is categorical, we can't use the techniques we've been looking at. Nevertheless, considering that there are few missing values, we can just use the mode to fill in. \n",
    "\n",
    "- home.dest: This is another categorical column, so we can also use the mode. "
   ]
  },
  {
   "cell_type": "markdown",
   "id": "c10a1b25",
   "metadata": {},
   "source": [
    "### <font color='6e6e6e'>Splitting data</font>"
   ]
  },
  {
   "cell_type": "markdown",
   "id": "9d1541a3",
   "metadata": {},
   "source": [
    "Before applying the strategies mentioned above, it is better to first complete Task #5 (data splitting). The reason behind this decision is to prevent data leakage. If I imput missing values, like mean or median, before splitting, these values would be calculated based on the entire dataset, including data from the test and validation sets. This would provide the model with information that it would never have in the real-world during training. By splitting first, I ensure that imputation is done only on the training set; this prevents overfitting. \n",
    "\n",
    "Considering that the dataset is not large, I will split the data into 70% for training and 30% between validation and test data in the first split. This will help me have enough data to train the model and be able to generalize to unseen data. "
   ]
  },
  {
   "cell_type": "code",
   "execution_count": 1797,
   "id": "46b3d753",
   "metadata": {},
   "outputs": [
    {
     "name": "stdout",
     "output_type": "stream",
     "text": [
      "X_train shape: (916, 9)\n",
      "X_val shape: (196, 9)\n",
      "X_test shape: (197, 9)\n"
     ]
    }
   ],
   "source": [
    "from sklearn.model_selection import train_test_split # I used this library as it was recommended \n",
    "\n",
    "X, Y = df.drop(columns=['survived']), df['survived']\n",
    "\n",
    "# first reccomended split\n",
    "X_train, X_other, Y_train, Y_other = train_test_split(X, Y, test_size=0.3, random_state=42, stratify=Y)\n",
    "\n",
    "#second reccomended split \n",
    "X_val, X_test, Y_val, Y_test = train_test_split(X_other, Y_other, test_size=0.5, random_state=42, stratify=Y_other)\n",
    "\n",
    "# now I will just check the dimensions of each split \n",
    "print(f\"X_train shape: {X_train.shape}\")\n",
    "print(f\"X_val shape: {X_val.shape}\")\n",
    "print(f\"X_test shape: {X_test.shape}\")"
   ]
  },
  {
   "cell_type": "markdown",
   "id": "a5299dc0",
   "metadata": {},
   "source": [
    "I used the recommended splitting techinque, train_test_split. I think it was a good choice since it provides a straightfoward for the process and it uses the paramater stratify that helps me mantain the original distribution throughout the sets. \n",
    "\n",
    "I want to make sure that the split was done correctly, so I will check that there are no duplicated rows throught the different datasets."
   ]
  },
  {
   "cell_type": "code",
   "execution_count": 1798,
   "id": "9d639bda",
   "metadata": {},
   "outputs": [
    {
     "name": "stdout",
     "output_type": "stream",
     "text": [
      "Overlap between Train and Validation: 0\n",
      "Overlap between Train and Test: 0\n",
      "Overlap between Validation and Test: 0\n"
     ]
    }
   ],
   "source": [
    "print(\"Overlap between Train and Validation:\", X_train.index.intersection(X_val.index).shape[0])\n",
    "print(\"Overlap between Train and Test:\", X_train.index.intersection(X_test.index).shape[0])\n",
    "print(\"Overlap between Validation and Test:\", X_val.index.intersection(X_test.index).shape[0])"
   ]
  },
  {
   "cell_type": "markdown",
   "id": "44df6b93",
   "metadata": {},
   "source": [
    "We're good! Since the results was 0 for all of them then that means that there are no duplicates, no data leakage. "
   ]
  },
  {
   "cell_type": "markdown",
   "id": "c1cc706d",
   "metadata": {},
   "source": [
    "Additionally, I will double check that the datasets are representative of the original distribution using stratification. "
   ]
  },
  {
   "cell_type": "code",
   "execution_count": 1799,
   "id": "7b239b04",
   "metadata": {},
   "outputs": [
    {
     "name": "stdout",
     "output_type": "stream",
     "text": [
      "\n",
      "Original Dataset Class Distribution:\n",
      "survived\n",
      "0    61.802903\n",
      "1    38.197097\n",
      "Name: proportion, dtype: float64\n",
      "\n",
      "Training Set Class Distribution:\n",
      "survived\n",
      "0    61.802903\n",
      "1    38.197097\n",
      "Name: proportion, dtype: float64\n",
      "\n",
      "Validation Set Class Distribution:\n",
      "survived\n",
      "0    61.802903\n",
      "1    38.197097\n",
      "Name: proportion, dtype: float64\n",
      "\n",
      "Test Set Class Distribution:\n",
      "survived\n",
      "0    61.802903\n",
      "1    38.197097\n",
      "Name: proportion, dtype: float64\n"
     ]
    }
   ],
   "source": [
    "def check_class_distribution(y, df):\n",
    "    distribution = Y.value_counts(normalize=True) * 100  \n",
    "    print(f\"\\n{df} Class Distribution:\\n{distribution}\")\n",
    "\n",
    "# Checking distribution in the original dataset\n",
    "check_class_distribution(Y, \"Original Dataset\")\n",
    "\n",
    "# check distributions in the split sets\n",
    "check_class_distribution(Y_train, \"Training Set\")\n",
    "check_class_distribution(Y_val, \"Validation Set\")\n",
    "check_class_distribution(Y_test, \"Test Set\")\n"
   ]
  },
  {
   "cell_type": "markdown",
   "id": "8daa08c9",
   "metadata": {},
   "source": [
    "Luckily, the results show that the original dataset's distribution has been mantained across the training, validation, and test sets. The splitting process was done correctly!"
   ]
  },
  {
   "cell_type": "markdown",
   "id": "51f19305",
   "metadata": {},
   "source": [
    "### <font color='6e6e6e'>Data Imputation</font>"
   ]
  },
  {
   "cell_type": "markdown",
   "id": "3fad53cd",
   "metadata": {},
   "source": [
    "Now that that the data has been split and checked, I can continue with the rest of task #2, data imputation. I was going to manually find the values that I mentioned before to input them into the data, but SimpleImputer from sklearn.impute library apparently can quickly provide these values. So I will try it out. "
   ]
  },
  {
   "cell_type": "code",
   "execution_count": 1800,
   "id": "c7e82924",
   "metadata": {},
   "outputs": [],
   "source": [
    "from sklearn.impute import SimpleImputer\n",
    "\n",
    "#numerical columns (qge and fare)\n",
    "age_imputer = SimpleImputer(strategy='median')\n",
    "fare_imputer = SimpleImputer(strategy='median')\n",
    "\n",
    "X_train['age'] = age_imputer.fit_transform(X_train[['age']]).ravel()\n",
    "X_train['fare'] = fare_imputer.fit_transform(X_train[['fare']]).ravel()\n",
    "\n",
    "X_val['age'] = age_imputer.transform(X_val[['age']]).ravel()\n",
    "X_val['fare'] = fare_imputer.transform(X_val[['fare']]).ravel()\n",
    "\n",
    "X_test['age'] = age_imputer.transform(X_test[['age']]).ravel()\n",
    "X_test['fare'] = fare_imputer.transform(X_test[['fare']]).ravel()\n",
    "\n",
    "#  categorical column (embarked)\n",
    "embarked_imputer = SimpleImputer(strategy='most_frequent')\n",
    "\n",
    "X_train['embarked'] = embarked_imputer.fit_transform(X_train[['embarked']]).ravel()\n",
    "\n",
    "X_val['embarked'] = embarked_imputer.transform(X_val[['embarked']]).ravel()\n",
    "\n",
    "X_test['embarked'] = embarked_imputer.transform(X_test[['embarked']]).ravel()\n",
    "\n"
   ]
  },
  {
   "cell_type": "code",
   "execution_count": 1801,
   "id": "c16c3edc",
   "metadata": {},
   "outputs": [
    {
     "name": "stdout",
     "output_type": "stream",
     "text": [
      "\n",
      "Missing values in X_train:\n",
      " pclass      0\n",
      "name        0\n",
      "sex         0\n",
      "age         0\n",
      "sibsp       0\n",
      "parch       0\n",
      "ticket      0\n",
      "fare        0\n",
      "embarked    0\n",
      "dtype: int64\n",
      "\n",
      "Missing values in X_val:\n",
      " pclass      0\n",
      "name        0\n",
      "sex         0\n",
      "age         0\n",
      "sibsp       0\n",
      "parch       0\n",
      "ticket      0\n",
      "fare        0\n",
      "embarked    0\n",
      "dtype: int64\n",
      "\n",
      "Missing values in X_test:\n",
      " pclass      0\n",
      "name        0\n",
      "sex         0\n",
      "age         0\n",
      "sibsp       0\n",
      "parch       0\n",
      "ticket      0\n",
      "fare        0\n",
      "embarked    0\n",
      "dtype: int64\n"
     ]
    }
   ],
   "source": [
    "# Quickly checking that there are no null values\n",
    "\n",
    "print(\"\\nMissing values in X_train:\\n\", X_train.isnull().sum())\n",
    "print(\"\\nMissing values in X_val:\\n\", X_val.isnull().sum())\n",
    "print(\"\\nMissing values in X_test:\\n\", X_test.isnull().sum())"
   ]
  },
  {
   "cell_type": "markdown",
   "id": "8aa7cfbf",
   "metadata": {},
   "source": [
    "The data imputation process was succesful, there are no more null values in the datasets. This will help us prevent errors while trianing our model."
   ]
  },
  {
   "cell_type": "markdown",
   "id": "2b9d2e5e",
   "metadata": {},
   "source": [
    "# <font color='#3c3c3c'>Task 3</font>"
   ]
  },
  {
   "cell_type": "markdown",
   "id": "7fa25f4f",
   "metadata": {},
   "source": [
    "### <font color='6e6e6e'>Identifying Categorical Variables</font>"
   ]
  },
  {
   "cell_type": "markdown",
   "id": "452ca7d3",
   "metadata": {},
   "source": [
    "Once again, let's find the categorical columns in out dataset"
   ]
  },
  {
   "cell_type": "code",
   "execution_count": 1802,
   "id": "d6d76d7c",
   "metadata": {},
   "outputs": [
    {
     "name": "stdout",
     "output_type": "stream",
     "text": [
      "Categorical columns: Index(['name', 'sex', 'ticket', 'embarked'], dtype='object')\n"
     ]
    }
   ],
   "source": [
    "categorical_cols = X_train.select_dtypes(include=['object']).columns\n",
    "print(\"Categorical columns:\", categorical_cols)"
   ]
  },
  {
   "cell_type": "markdown",
   "id": "a3ed02f9",
   "metadata": {},
   "source": [
    "### <font color='6e6e6e'>Dropping and Encoding Variables</font>"
   ]
  },
  {
   "cell_type": "markdown",
   "id": "89ecc9b6",
   "metadata": {},
   "source": [
    "Even though there are 5 columns identified as categrical, I'm not going to encode all of them since not all columns are relevant. I will be focusing on sex, embarked, and pclass which is originally a numerical column in the dataset but represents a categorical feature in reality. Additionally, I will be dropping the name and ticket features as they are not relevant; they do not provide any useful information for predicting survival. "
   ]
  },
  {
   "cell_type": "code",
   "execution_count": 1803,
   "id": "2cfabe80",
   "metadata": {},
   "outputs": [],
   "source": [
    "# function to drop columns if they exist so that they dont ouput error if ran twice\n",
    "def drop_columns_if_exist(df, columns):\n",
    "    columns_to_drop = [col for col in columns if col in df.columns]  \n",
    "    if columns_to_drop:  \n",
    "        return df.drop(columns=columns_to_drop)\n",
    "    return df \n",
    "\n",
    "\n",
    "X_train = drop_columns_if_exist(X_train, ['name', 'ticket'])\n",
    "X_val = drop_columns_if_exist(X_val, ['name', 'ticket'])\n",
    "X_test = drop_columns_if_exist(X_test, ['name', 'ticket'])"
   ]
  },
  {
   "cell_type": "markdown",
   "id": "95f69421",
   "metadata": {},
   "source": [
    "At first, I encoded all three categorical features using one-hot encoding, but after knowing that we weren't limited to just one method I decided to use other strategies. After careful analysis, I have decided to use three different encoding methods according to the type of the categorical features. \n",
    "\n",
    "    - Since the \"sex\" column has two different categories, label encoding is a good option. Nevertheless, I will use one-hot encoding so that I can separately see the correlations between both categories with other features seprately.\n",
    "    - The \"embarked\" column has three categories and no specifc order between them. So, I will do one-hot encoding for it. This will transofrm the \"embarked\" feature intro three separate binary features. \n",
    "    - The \"pclass\" feature has three categories with a relevant hierarchical order. So, it wouldn't be a great idea to use one-hot encoding, instead, I will use ordinal encoding. This willl keep the order of the categories. "
   ]
  },
  {
   "cell_type": "code",
   "execution_count": 1804,
   "id": "1122e626",
   "metadata": {},
   "outputs": [],
   "source": [
    "from sklearn.preprocessing import LabelEncoder, OneHotEncoder, OrdinalEncoder\n",
    "\n",
    "# manually selected columns\n",
    "categorical_cols = ['sex', 'embarked', 'pclass']\n",
    "\n",
    "# copies to be safe and easy modification later on\n",
    "X_train_encoded = X_train.copy()\n",
    "X_val_encoded = X_val.copy()\n",
    "X_test_encoded = X_test.copy()\n",
    "\n",
    "# 2 different encoding methods\n",
    "# 'ignore' will help us with categories not seen in training set\n",
    "one_hot_encoder = OneHotEncoder(drop=None, handle_unknown='ignore', sparse_output=False)  \n",
    "ordinal_encoder = OrdinalEncoder(categories=[[1, 2, 3]])  \n"
   ]
  },
  {
   "cell_type": "code",
   "execution_count": 1805,
   "id": "cc781363",
   "metadata": {},
   "outputs": [],
   "source": [
    "### SEX ENCODING WITH ONE-HOT ENCOCDING ###\n",
    "\n",
    "# Training set\n",
    "sex_train = one_hot_encoder.fit_transform(X_train_encoded[['sex']])\n",
    "sex_train_df = pd.DataFrame(sex_train, columns=one_hot_encoder.get_feature_names_out(['sex']))\n",
    "X_train_encoded = X_train_encoded.drop(columns=['sex']).reset_index(drop=True)\n",
    "X_train_encoded = pd.concat([X_train_encoded, sex_train_df], axis=1)\n",
    "\n",
    "# Validation set\n",
    "sex_val = one_hot_encoder.transform(X_val_encoded[['sex']])\n",
    "sex_val_df = pd.DataFrame(sex_val, columns=one_hot_encoder.get_feature_names_out(['sex']))\n",
    "X_val_encoded = X_val_encoded.drop(columns=['sex']).reset_index(drop=True)\n",
    "X_val_encoded = pd.concat([X_val_encoded, sex_val_df], axis=1)\n",
    "\n",
    "# Test set\n",
    "sex_test = one_hot_encoder.transform(X_test_encoded[['sex']])\n",
    "sex_test_df = pd.DataFrame(sex_test, columns=one_hot_encoder.get_feature_names_out(['sex']))\n",
    "X_test_encoded = X_test_encoded.drop(columns=['sex']).reset_index(drop=True)\n",
    "X_test_encoded = pd.concat([X_test_encoded, sex_test_df], axis=1)"
   ]
  },
  {
   "cell_type": "code",
   "execution_count": 1806,
   "id": "ce76c864",
   "metadata": {},
   "outputs": [],
   "source": [
    "### EMBARKED ENCODING WITH ONE-HOT ENCODING ###\n",
    "\n",
    "# training set\n",
    "embarked_train = one_hot_encoder.fit_transform(X_train_encoded[['embarked']])\n",
    "embarked_train_df = pd.DataFrame(embarked_train, columns=one_hot_encoder.get_feature_names_out(['embarked']))\n",
    "X_train_encoded = X_train_encoded.drop(columns=['embarked']).reset_index(drop=True)\n",
    "X_train_encoded = pd.concat([X_train_encoded, embarked_train_df], axis=1)\n",
    "\n",
    "# validation set\n",
    "embarked_val = one_hot_encoder.transform(X_val_encoded[['embarked']])\n",
    "embarked_val_df = pd.DataFrame(embarked_val, columns=one_hot_encoder.get_feature_names_out(['embarked']))\n",
    "X_val_encoded = X_val_encoded.drop(columns=['embarked']).reset_index(drop=True)\n",
    "X_val_encoded = pd.concat([X_val_encoded, embarked_val_df], axis=1)\n",
    "\n",
    "# test set\n",
    "embarked_test = one_hot_encoder.transform(X_test_encoded[['embarked']])\n",
    "embarked_test_df = pd.DataFrame(embarked_test, columns=one_hot_encoder.get_feature_names_out(['embarked']))\n",
    "X_test_encoded = X_test_encoded.drop(columns=['embarked']).reset_index(drop=True)\n",
    "X_test_encoded = pd.concat([X_test_encoded, embarked_test_df], axis=1)"
   ]
  },
  {
   "cell_type": "code",
   "execution_count": 1807,
   "id": "7e2db6e0",
   "metadata": {},
   "outputs": [],
   "source": [
    "### PCLASS ENCODING WITH ORDINAL ENCODING ###\n",
    "\n",
    "X_train_encoded['pclass'] = ordinal_encoder.fit_transform(X_train_encoded[['pclass']]) # training set\n",
    "X_val_encoded['pclass'] = ordinal_encoder.transform(X_val_encoded[['pclass']]) # validation set\n",
    "X_test_encoded['pclass'] = ordinal_encoder.transform(X_test_encoded[['pclass']]) # test set "
   ]
  },
  {
   "cell_type": "markdown",
   "id": "c3a30dc4",
   "metadata": {},
   "source": [
    "**Quick Note**: During the encoding process I ran into some issues. I was getting a ValueError when transforming the validation and test sets because the encoder was encountering categories in those sets that it had never seen during training. The error said something between the lines that there were NaN values (I freaked out becuase I tripled checked during the data imputation process). So, I checked again for NaN values in the sets, and none of them had null values. Naturally, I had to ask ChatGPT what was going on. It turns out that the issue wasn't with the NaN values themselves, but rather that the encoder had encountered unseen categories, like NaN, during the transformation process. ChatGPT suggested I use the handle_unknown='ignore' parameter, which tells the encoder to ignore any unseen categories and handle them without causing errors. After applying this, I was able to successfully transform the validation and test sets without further issues. "
   ]
  },
  {
   "cell_type": "markdown",
   "id": "c5846e86",
   "metadata": {},
   "source": [
    "### <font color='6e6e6e'>Encoding Effect</font>"
   ]
  },
  {
   "cell_type": "markdown",
   "id": "b1900a8a",
   "metadata": {},
   "source": [
    "Now let's take a look at the effect the encoding had."
   ]
  },
  {
   "cell_type": "code",
   "execution_count": 1808,
   "id": "ccdd7353",
   "metadata": {},
   "outputs": [
    {
     "name": "stdout",
     "output_type": "stream",
     "text": [
      "         sex embarked  pclass\n",
      "442     male        S       2\n",
      "1041    male        S       3\n",
      "621   female        S       3\n",
      "1108    male        S       3\n",
      "663     male        S       3\n"
     ]
    }
   ],
   "source": [
    "# As a reminder, this is how the categorical features used to look\n",
    "print(X_train[categorical_cols].sample(5, random_state=2025))  \n"
   ]
  },
  {
   "cell_type": "code",
   "execution_count": 1809,
   "id": "bed6a0fc",
   "metadata": {},
   "outputs": [
    {
     "name": "stdout",
     "output_type": "stream",
     "text": [
      "   pclass   age  sibsp  parch     fare  sex_female  sex_male  embarked_C  \\\n",
      "0     0.0  54.0      0      1  77.2875         0.0       1.0         0.0   \n",
      "1     2.0  28.0      1      0  14.4542         0.0       1.0         1.0   \n",
      "2     2.0  13.0      4      2  31.3875         0.0       1.0         0.0   \n",
      "3     2.0  28.5      0      0  16.1000         0.0       1.0         0.0   \n",
      "4     2.0  55.5      0      0   8.0500         0.0       1.0         0.0   \n",
      "\n",
      "   embarked_Q  embarked_S  \n",
      "0         0.0         1.0  \n",
      "1         0.0         0.0  \n",
      "2         0.0         1.0  \n",
      "3         0.0         1.0  \n",
      "4         0.0         1.0  \n"
     ]
    }
   ],
   "source": [
    "# Now, this is how they look after the encoding process\n",
    "print(X_train_encoded.head(5))"
   ]
  },
  {
   "cell_type": "markdown",
   "id": "e88969c8",
   "metadata": {},
   "source": [
    "### <font color='6e6e6e'>Results</font>"
   ]
  },
  {
   "cell_type": "markdown",
   "id": "906d4067",
   "metadata": {},
   "source": [
    "Machine learning algorithms are unable to interpret categorical features directly, which is why encoding is vital. As we can see above, there were features that had string values and numeric values that represented categories: \n",
    "\n",
    "    - \"sex\" had two categories: \"female\" and \"male\" \n",
    "    - \"embarked\" had three categories: \"C\", \"Q\", and \"S\"\n",
    "    - \"pclass\" had three categoires: 1, 2, 3\n",
    "\n",
    "As previously mentioned, I use three different strategies to encode these categorical features. I used label encoding for \"sex\", one-hot encoding for \"embarked\", and ordinal encoding for \"pclass\": \n",
    "\n",
    "    - \"\"sex\" is now represented by two separate columns: \"sex_female\" and \"sex_male\".\n",
    "    - \"embarked\" is now represented by three separate columns: \"embarked_C\", \"embarked_Q\", and \"embarked_S\".\n",
    "    - \"pclass\" is now encoded as 0 for first class, 1 for second class, and 2 for third class.\n",
    "\n",
    "With this encoding process, the machine learning algorithms can now properly interpret categorical features while maintaining important distinctions between categories."
   ]
  },
  {
   "cell_type": "markdown",
   "id": "9d2aee43",
   "metadata": {},
   "source": [
    "**Why these strategies?**\n",
    "\n",
    "As mentioned before, I originally encoded all categorical features using one-hot encoding. While this approach worked, I now realize that applying different encoding strategies is more beneficial. Using one-hot encoding for all categorical features wasn't the best option, it increased the dataset size, and it even caused loss of information. By encoding \"pclass\" with a different method in a single column, I preserved the original information while improving efficiency.\n",
    "\n",
    "One-hot encoding remains the best choice for \"embarked\" and \"sex\" since it they have no inherent order, and this method effectively differentiates between their different categories. I considered label encoding for \"sex\" becuase it has two categories (\"female\" and \"male\") and they could easily be represented in a binary way. However, as I mentioned, I decided to keep one-hot encoding to see further correlations. Similarly, ordinal encoding for \"pclass\" was a better choice because it preserved the natural ranking of passenger classes, where first class is better than third class, which was lost when using one-hot encoding.\n",
    "\n",
    "It’s also possible to leave \"pclass\" as a numeric feature without encoding, but I preferred encoding it to ensure clarity. Besides, since it doesn't negatively affect the model it is good practice to play around with different methods."
   ]
  },
  {
   "cell_type": "markdown",
   "id": "4bcc466c",
   "metadata": {},
   "source": [
    "# <font color='#3c3c3c'>Task 4</font>"
   ]
  },
  {
   "cell_type": "markdown",
   "id": "2d95c343",
   "metadata": {},
   "source": [
    "Now, let's move on to feature scaling. This is an important step in data preprocessing becuase it help us scale the features so that they have the same or similar scales. Machine learning can perform poorly if the features since featurse with a larger scale wil disproportionally influence predictions. By standardizing or normalizing the features, we ensure that all input features contribute equally to the model's learning process."
   ]
  },
  {
   "cell_type": "markdown",
   "id": "9d6afe79",
   "metadata": {},
   "source": [
    "First, let's find the numerical columns."
   ]
  },
  {
   "cell_type": "code",
   "execution_count": 1832,
   "id": "4971be8c",
   "metadata": {},
   "outputs": [
    {
     "name": "stdout",
     "output_type": "stream",
     "text": [
      "Index(['pclass', 'age', 'sibsp', 'parch', 'fare'], dtype='object')\n"
     ]
    }
   ],
   "source": [
    "numerical_cols_list = X_train.select_dtypes(include=['float64', 'int64']).columns\n",
    "print(numerical_cols_list)"
   ]
  },
  {
   "cell_type": "markdown",
   "id": "6b130238",
   "metadata": {},
   "source": [
    "We can't forget that we decided to treat pclass as a categorical variable, so we're going to define the numerical columns without pclass."
   ]
  },
  {
   "cell_type": "code",
   "execution_count": 1811,
   "id": "ea13cd28",
   "metadata": {},
   "outputs": [],
   "source": [
    "numerical_cols = ['age', 'sibsp', 'parch', 'fare']"
   ]
  },
  {
   "cell_type": "markdown",
   "id": "d3d2990a",
   "metadata": {},
   "source": [
    "**Quick Note**: At this point, I realized that maybe it would be a good idea to combine sibsp and parch into a single column. This would make sense becuase they both represent having companions on board which, as we saw in task 1, do have a correlation with survival rate. Neverthless, I will leave the columns for now and decide on it when I can train the model and measure performance. I prefer looking into them as separate columns for now as they may have different correlations with other features."
   ]
  },
  {
   "cell_type": "markdown",
   "id": "483457ca",
   "metadata": {},
   "source": [
    "### <font color='6e6e6e'>Standardization</font>"
   ]
  },
  {
   "cell_type": "code",
   "execution_count": 1812,
   "id": "e31186cd",
   "metadata": {},
   "outputs": [
    {
     "name": "stdout",
     "output_type": "stream",
     "text": [
      "Standardized training set (numerical columns):\n",
      "        age     sibsp     parch      fare\n",
      "0  1.917440 -0.487688  0.691284  0.905927\n",
      "1 -0.112638  0.525287 -0.441482 -0.366777\n",
      "2 -1.283836  3.564212  1.824050 -0.023788\n",
      "3 -0.073598 -0.487688 -0.441482 -0.333441\n",
      "4  2.034560 -0.487688 -0.441482 -0.496495\n",
      "\n",
      "Standardized validation set (numerical columns):\n",
      "        age     sibsp     parch      fare\n",
      "0 -0.346877  0.525287 -0.441482 -0.502065\n",
      "1 -0.815357 -0.487688 -0.441482 -0.504597\n",
      "2 -0.034558 -0.487688 -0.441482 -0.467125\n",
      "3 -0.112638 -0.487688 -0.441482  0.353212\n",
      "4 -0.346877 -0.487688 -0.441482 -0.659550\n",
      "\n",
      "Standardized test set (numerical columns):\n",
      "        age     sibsp     parch      fare\n",
      "0 -0.424957  0.525287  1.824050  0.657041\n",
      "1 -0.346877  0.525287 -0.441482 -0.502065\n",
      "2  1.214721 -0.487688  1.824050 -0.051893\n",
      "3  0.590082  1.538262 -0.441482 -0.499027\n",
      "4 -0.581117 -0.487688 -0.441482 -0.513121\n"
     ]
    }
   ],
   "source": [
    "from sklearn.preprocessing import StandardScaler  # recommended library\n",
    "\n",
    "scaler = StandardScaler()\n",
    "\n",
    "# training set\n",
    "X_train_standardized = X_train_encoded.copy()\n",
    "X_train_standardized[numerical_cols] = scaler.fit_transform(X_train[numerical_cols])\n",
    "# results\n",
    "print(\"Standardized training set (numerical columns):\")\n",
    "print(X_train_standardized[numerical_cols].head())\n",
    "\n",
    "# validation set\n",
    "X_val_standardized = X_val_encoded.copy()\n",
    "X_val_standardized[numerical_cols] = scaler.transform(X_val[numerical_cols])\n",
    "#results \n",
    "print(\"\\nStandardized validation set (numerical columns):\")\n",
    "print(X_val_standardized[numerical_cols].head())\n",
    "\n",
    "# test set\n",
    "X_test_standardized = X_test_encoded.copy()\n",
    "X_test_standardized[numerical_cols] = scaler.transform(X_test[numerical_cols])\n",
    "# resulsts\n",
    "print(\"\\nStandardized test set (numerical columns):\")\n",
    "print(X_test_standardized[numerical_cols].head())\n"
   ]
  },
  {
   "cell_type": "markdown",
   "id": "241c438d",
   "metadata": {},
   "source": [
    "### <font color='6e6e6e'>Normalization</font>"
   ]
  },
  {
   "cell_type": "markdown",
   "id": "bee16bf2",
   "metadata": {},
   "source": [
    "The slides provided by the professor mentioned that it can be beneficial to apply winsorization to handle outliers so it could be good practice to use it before normalizing the datasets."
   ]
  },
  {
   "cell_type": "code",
   "execution_count": 1813,
   "id": "b6122a7a",
   "metadata": {},
   "outputs": [
    {
     "name": "stdout",
     "output_type": "stream",
     "text": [
      "Original numerical columns (before Winsorization):\n",
      "       age  sibsp  parch     fare\n",
      "306   54.0      0      1  77.2875\n",
      "927   28.0      1      0  14.4542\n",
      "642   13.0      4      2  31.3875\n",
      "1294  28.5      0      0  16.1000\n",
      "1015  55.5      0      0   8.0500\n"
     ]
    }
   ],
   "source": [
    "# This will help us see if there are any changes after winsorization\n",
    "print(\"Original numerical columns (before Winsorization):\")\n",
    "print(X_train[numerical_cols].head())"
   ]
  },
  {
   "cell_type": "code",
   "execution_count": 1814,
   "id": "e1137866",
   "metadata": {},
   "outputs": [
    {
     "name": "stdout",
     "output_type": "stream",
     "text": [
      "\n",
      "Numerical columns after Winsorization:\n",
      "    age  sibsp  parch     fare\n",
      "0  54.0      0      1  77.2875\n",
      "1  28.0      1      0  14.4542\n",
      "2  13.0      2      2  31.3875\n",
      "3  28.5      0      0  16.1000\n",
      "4  54.0      0      0   8.0500\n"
     ]
    }
   ],
   "source": [
    "from scipy.stats.mstats import winsorize\n",
    "\n",
    "def apply_winsorization(df, columns, limits=[0.05, 0.05]):\n",
    "    for column in columns:\n",
    "        df[column] = winsorize(df[column], limits=limits)\n",
    "    return df\n",
    "\n",
    "\n",
    "X_train_winsorized = apply_winsorization(X_train_encoded.copy(), numerical_cols)\n",
    "X_val_winsorized = apply_winsorization(X_val_encoded.copy(), numerical_cols)\n",
    "X_test_winsorized = apply_winsorization(X_test_encoded.copy(), numerical_cols)\n",
    "\n",
    "# results \n",
    "print(\"\\nNumerical columns after Winsorization:\")\n",
    "print(X_train_winsorized[numerical_cols].head())"
   ]
  },
  {
   "cell_type": "markdown",
   "id": "29aec22e",
   "metadata": {},
   "source": [
    "We can see very slight changes with the results. Nevertheless, it makes sense since there weren't any crazy outliers in the dataset. \n",
    "\n",
    "We can now move on to normalizing the data. "
   ]
  },
  {
   "cell_type": "code",
   "execution_count": 1815,
   "id": "349a718c",
   "metadata": {},
   "outputs": [
    {
     "name": "stdout",
     "output_type": "stream",
     "text": [
      "\n",
      "Numerical columns after normalization:\n",
      "        age  sibsp  parch      fare\n",
      "0  1.000000    0.0    0.5  0.621259\n",
      "1  0.434783    0.5    0.0  0.064103\n",
      "2  0.108696    1.0    1.0  0.214254\n",
      "3  0.445652    0.0    0.0  0.078697\n",
      "4  1.000000    0.0    0.0  0.007315\n"
     ]
    }
   ],
   "source": [
    "from sklearn.preprocessing import MinMaxScaler\n",
    "\n",
    "scaler = MinMaxScaler()\n",
    "\n",
    "# Normalize the training set\n",
    "X_train_normalized = X_train_winsorized.copy()\n",
    "X_train_normalized[numerical_cols] = scaler.fit_transform(X_train_winsorized[numerical_cols])\n",
    "\n",
    "# Normalize the validation set\n",
    "X_val_normalized = X_val_winsorized.copy()\n",
    "X_val_normalized[numerical_cols] = scaler.transform(X_val_winsorized[numerical_cols])\n",
    "\n",
    "# Normalize the test set\n",
    "X_test_normalized = X_test_winsorized.copy()\n",
    "X_test_normalized[numerical_cols] = scaler.transform(X_test_winsorized[numerical_cols])\n",
    "\n",
    "# Print the data after normalization\n",
    "print(\"\\nNumerical columns after normalization:\")\n",
    "print(X_train_normalized[numerical_cols].head())"
   ]
  },
  {
   "cell_type": "markdown",
   "id": "568285e5",
   "metadata": {},
   "source": [
    "### <font color='6e6e6e'>Conclusion</font>"
   ]
  },
  {
   "cell_type": "markdown",
   "id": "505ee35d",
   "metadata": {},
   "source": [
    "So, we applied both standardization and normalization in different copies of the dataset.\n",
    "\n",
    "Standardization usually works better for data that is uniformly distributed because it rescales the feature values so that the sample mean equals 0 and the sample standard deviation is 1. On the other hand, normalization often works better for normally distributed data. It basically compresses the features values (it assumes max and min are outliers) so that the range between the values is small. That's why it helps handling the effect that extreme outliers can have. Unfortunetly, data is complicated and it rarely follows a strict distribution so it is difficult to know which works best for your data until you test it. \n",
    "\n",
    "For now, I will go for normalization because logistic regression, the model we'll be using, often benefits from features being scaled to have a mean of 0 and a standard deviation of 1. This helps the model perform better since it facilitates the learning process of the relationship between the features and the target."
   ]
  },
  {
   "cell_type": "markdown",
   "id": "d0d95bfb",
   "metadata": {},
   "source": [
    "# <font color='#3c3c3c'>Task 6</font>"
   ]
  },
  {
   "cell_type": "markdown",
   "id": "b3dce639",
   "metadata": {},
   "source": [
    "As we saw in previous tasks, there is a high chance that we are dealing with imbalanced data. We must handle this becuase when a class outnumbers another class, the model will lead to biased predictions and lack generalization. Methods like SMOTE nad ADASYN will help us generate synthetic samples of the minority classes to balance our data. This way, the model will not favor the majority class."
   ]
  },
  {
   "cell_type": "code",
   "execution_count": 1816,
   "id": "305bad48",
   "metadata": {},
   "outputs": [],
   "source": [
    "from imblearn.over_sampling import SMOTE, ADASYN #recommended library\n",
    "from collections import Counter"
   ]
  },
  {
   "cell_type": "markdown",
   "id": "a50d0f4d",
   "metadata": {},
   "source": [
    "First, I will printing the current distribution of classes in the training data to better understand results afterwards since we will be able to compare them. Then, I will apply both SMOTE and ADASYN to learn the different effects."
   ]
  },
  {
   "cell_type": "code",
   "execution_count": 1817,
   "id": "0c6cdb39",
   "metadata": {},
   "outputs": [
    {
     "name": "stdout",
     "output_type": "stream",
     "text": [
      "Before SMOTE and ADASYN: Counter({0: 566, 1: 350})\n"
     ]
    }
   ],
   "source": [
    "print(\"Before SMOTE and ADASYN:\", Counter(Y_train))"
   ]
  },
  {
   "cell_type": "markdown",
   "id": "1f19ecc8",
   "metadata": {},
   "source": [
    "The results show that the majority class is 0 with 566 instances and the minority class is 1 with 350 instances. "
   ]
  },
  {
   "cell_type": "markdown",
   "id": "cccf12ac",
   "metadata": {},
   "source": [
    "### <font color='6e6e6e'>SMOTE</font>"
   ]
  },
  {
   "cell_type": "code",
   "execution_count": 1818,
   "id": "ff58c6ba",
   "metadata": {},
   "outputs": [
    {
     "name": "stdout",
     "output_type": "stream",
     "text": [
      "After SMOTE: Counter({0: 566, 1: 566})\n"
     ]
    }
   ],
   "source": [
    "smote = SMOTE(random_state=42)\n",
    "X_train_SMOTE, Y_train_SMOTE = smote.fit_resample(X_train_encoded, Y_train)\n",
    "\n",
    "# results\n",
    "print(\"After SMOTE:\", Counter(Y_train_SMOTE))"
   ]
  },
  {
   "cell_type": "markdown",
   "id": "064e05a5",
   "metadata": {},
   "source": [
    "### <font color='6e6e6e'>ADASYN</font>"
   ]
  },
  {
   "cell_type": "code",
   "execution_count": 1819,
   "id": "083b85f2",
   "metadata": {},
   "outputs": [
    {
     "name": "stdout",
     "output_type": "stream",
     "text": [
      "After ADASYN: Counter({0: 566, 1: 512})\n"
     ]
    }
   ],
   "source": [
    "adasyn = ADASYN(random_state=42)\n",
    "\n",
    "X_train_ADASYN, Y_train_ADASYN = adasyn.fit_resample(X_train_encoded, Y_train)\n",
    "\n",
    "\n",
    "print(\"After ADASYN:\", Counter(Y_train_ADASYN))"
   ]
  },
  {
   "cell_type": "markdown",
   "id": "3b977f8d",
   "metadata": {},
   "source": [
    "### <font color='6e6e6e'>Conclusion</font>"
   ]
  },
  {
   "cell_type": "markdown",
   "id": "808adbc2",
   "metadata": {},
   "source": [
    "Results showed that SMOTE balanced the data perfectly, generating enough synthetic samples of the minority class so that both classes ended up with 566 instances each. ADASYN, on the other hand, also added synthetic samples but not as many as SMOTE. Both approaches have their pros and cons: SMOTE ensures a perfectly balanced dataset but may lead to overfitting, while ADASYN focuses on generating more complex instances and reduces the risk of overfitting but does not guarantee a perfectly balanced dataset.\n",
    "\n",
    "I decided to use SMOTE for future tasks because, while it may lead to overfitting by generating too many synthetic samples it also ensures perfect balance. I will take the risk"
   ]
  },
  {
   "cell_type": "markdown",
   "id": "09cb38a0",
   "metadata": {},
   "source": [
    "# <font color='#3c3c3c'>Task 7</font>"
   ]
  },
  {
   "cell_type": "markdown",
   "id": "b6db7b1f",
   "metadata": {},
   "source": [
    "Feature selection is a crucial step in data preprocessing, as it helps eliminate redundant or irrelevant features that may negatively impact the model's performance. By removing low-variance features and highly correlated variables, we reduce noise, improving generalization. \n",
    "\n",
    "This step is performed after data splitting to ensure that feature selection is based only on the training data, preventing data leakage and the model learning patterns."
   ]
  },
  {
   "cell_type": "code",
   "execution_count": 1820,
   "id": "e5494fdf",
   "metadata": {},
   "outputs": [
    {
     "name": "stdout",
     "output_type": "stream",
     "text": [
      "embarked_Q       0.085755\n",
      "embarked_C       0.163813\n",
      "embarked_S       0.207707\n",
      "sex_female       0.229560\n",
      "sex_male         0.229560\n",
      "parch            0.713858\n",
      "pclass           0.723017\n",
      "sibsp            0.841642\n",
      "age            166.247024\n",
      "fare          2755.435926\n",
      "dtype: float64\n"
     ]
    }
   ],
   "source": [
    "# let's list all variances\n",
    "variances = X_train_SMOTE.var()\n",
    "\n",
    "# I will sort it because there are serveral similar variances\n",
    "sorted_variances = variances.sort_values()\n",
    "print(sorted_variances)"
   ]
  },
  {
   "cell_type": "code",
   "execution_count": 1821,
   "id": "a7b0d925",
   "metadata": {},
   "outputs": [
    {
     "name": "stdout",
     "output_type": "stream",
     "text": [
      "Selected Features after low variance filtering: Index(['pclass', 'age', 'sibsp', 'parch', 'fare', 'sex_female', 'sex_male',\n",
      "       'embarked_C', 'embarked_Q', 'embarked_S'],\n",
      "      dtype='object')\n"
     ]
    }
   ],
   "source": [
    "from sklearn.feature_selection import VarianceThreshold\n",
    "\n",
    "threshold = 0.01  \n",
    "filter = VarianceThreshold(threshold) #found this class that removes the features with variances that are lower that the threshold\n",
    "X_train_selection = filter.fit_transform(X_train_SMOTE)\n",
    "\n",
    "\n",
    "\n",
    "selected_features = X_train_SMOTE.columns[filter.get_support()]\n",
    "\n",
    "# results\n",
    "print(\"Selected Features after low variance filtering:\", selected_features)\n"
   ]
  },
  {
   "cell_type": "markdown",
   "id": "297fd354",
   "metadata": {},
   "source": [
    "The optimal threshold for feature selection depends on our dataset and the task we’re working on. We need to be cautious when setting the threshold, as a high threshold might remove important features, while a low threshold could keep irrelevant ones. I’ve noticed that there are no features with a variance lower than the optimal threshold, but embarked_Q does have a noticeably smaller variance compared to the other features. However, I’ve decided not to remove it for now.\n",
    "\n",
    "Next, I’ll perform Lasso regression to further analyze the features and their importance."
   ]
  },
  {
   "cell_type": "code",
   "execution_count": 1822,
   "id": "9d8cbd1d",
   "metadata": {},
   "outputs": [
    {
     "name": "stdout",
     "output_type": "stream",
     "text": [
      "Mean Squared Error: 0.21827516253436643\n",
      "Lasso coefficients:\n",
      "[-1.40901231e-01 -5.82790290e-03 -6.02169487e-02 -0.00000000e+00\n",
      "  2.93248152e-04  4.33330849e-01 -8.75751078e-16  4.40918789e-02\n",
      " -0.00000000e+00 -0.00000000e+00]\n",
      "Selected features: ['pclass' 'age' 'sibsp' 'fare' 'sex_female' 'sex_male' 'embarked_C']\n"
     ]
    }
   ],
   "source": [
    "from sklearn.linear_model import Lasso\n",
    "from sklearn.metrics import mean_squared_error\n",
    "\n",
    "lasso = Lasso(alpha=0.01)  \n",
    "lasso.fit(X_train_SMOTE, Y_train_SMOTE)\n",
    "Y_val_pred = lasso.predict(X_val_standardized)\n",
    "mse = mean_squared_error(Y_val_pred, Y_val)\n",
    "\n",
    "print(f\"Mean Squared Error: {mse}\")\n",
    "print(\"Lasso coefficients:\")\n",
    "\n",
    "print(lasso.coef_)\n",
    "\n",
    "# resultss\n",
    "selected_features = np.array(X_train_SMOTE.columns)[lasso.coef_ != 0]\n",
    "print(f\"Selected features: {selected_features}\")\n"
   ]
  },
  {
   "cell_type": "markdown",
   "id": "3ceb2aa3",
   "metadata": {},
   "source": [
    "The results from low variance filtering and L1 regularization are quite different, which I find confusing. The low variance filter identified only one feature with low variance, suggesting that minimal feature removal is needed. However, L1 regularization eliminated three features, indicating that they might contribute less to the model. Since these methods assess feature importance differently, variance filtering focuses on spread while L1 selects features based on their contribution to prediction, I don’t have a clear decision yet. To make a more informed choice, I will analyze the correlation matrix heatmap and calculate VIF scores to identify multicollinearity before finalizing which features to remove"
   ]
  },
  {
   "cell_type": "code",
   "execution_count": 1823,
   "id": "9ed24e31",
   "metadata": {},
   "outputs": [
    {
     "data": {
      "image/png": "[encoded data removed]",
      "text/plain": [
       "<Figure size 1000x800 with 2 Axes>"
      ]
     },
     "metadata": {},
     "output_type": "display_data"
    }
   ],
   "source": [
    "correlation_matrix = X_train_SMOTE.corr()\n",
    "\n",
    "plt.figure(figsize=(10, 8))  # Set the figure size for better visibility\n",
    "sns.heatmap(correlation_matrix, annot=True, cmap='coolwarm', vmin=-1, vmax=1, fmt='.2f', linewidths=0.5)\n",
    "\n",
    "plt.title(\"Correlation Matrix Heatmap\")\n",
    "plt.show()"
   ]
  },
  {
   "cell_type": "markdown",
   "id": "ef5b119b",
   "metadata": {},
   "source": [
    "As expected, some features show high correlations, but not all of them should be removed. For instance, each feature is perfectly correlated with itself, which is expected and should be ignored.\n",
    "\n",
    "There is only one high correalation, between sex_female and sex_male, which suggests that we can remove one of them. Based on previous analysis, I wil be removing sex_male since females are the ones who have ahigher survival rate. \n",
    "\n",
    "Beyond these obvious cases, I don't observe any other extremely high correlations between different features. This suggests that a moderate threshold, such as 0.6, might be a good benchmark for identifying unnecessary correlations.\n",
    "\n",
    "Why choose this threshold? The only strong correlations I found are those that make sense. The highest correlation I observed was -0.77, so setting a threshold around 0.75 or even lowering it to 0.6 seems reasonable. However, reducing the threshold further to 0.5 could be risky, as it might lead to the removal of valuable features.\n",
    "\n",
    "That being said, I won’t run a code-based removal process in this case because I can clearly see in the heatmap that only one feature pair exceeds the threshold: embarked_S and embarked_C. \n",
    "\n",
    "Neverthless, the correlation isn't crazy high, so I will perform the VIF test to see if the scores of any of these are high enough to remove them."
   ]
  },
  {
   "cell_type": "code",
   "execution_count": 1824,
   "id": "dd9b2a9b",
   "metadata": {},
   "outputs": [],
   "source": [
    "def drop_column_if_exists(df, column_name):\n",
    "    if column_name in df.columns:\n",
    "        return df.drop(columns=[column_name])\n",
    "    return df  # Return unchanged if column doesn't exist\n",
    "\n",
    "# I will use SMOTE for now\n",
    "X_train_selected = drop_column_if_exists(X_train_SMOTE, 'sex_male')\n",
    "\n",
    "# I will choose to use the normalized data for now \n",
    "X_val_selected = drop_column_if_exists(X_val_standardized, 'sex_male')\n",
    "X_test_selected = drop_column_if_exists(X_test_standardized, 'sex_male') "
   ]
  },
  {
   "cell_type": "code",
   "execution_count": 1825,
   "id": "7b0d1c1e",
   "metadata": {},
   "outputs": [
    {
     "name": "stdout",
     "output_type": "stream",
     "text": [
      "      Feature        VIF\n",
      "8  embarked_S  12.690963\n",
      "6  embarked_C   4.670287\n",
      "7  embarked_Q   3.300785\n",
      "0      pclass   1.898082\n",
      "4        fare   1.772083\n",
      "3       parch   1.283136\n",
      "1         age   1.231049\n",
      "2       sibsp   1.217099\n",
      "5  sex_female   1.111835\n"
     ]
    }
   ],
   "source": [
    "from statsmodels.stats.outliers_influence import variance_inflation_factor\n",
    "import pandas as pd\n",
    "\n",
    "X_vif = X_train_selected.copy()\n",
    "\n",
    "#  VIF for each feature\n",
    "vif_data = pd.DataFrame()\n",
    "vif_data[\"Feature\"] = X_vif.columns\n",
    "vif_data[\"VIF\"] = [variance_inflation_factor(X_vif.values, i) for i in range(X_vif.shape[1])]\n",
    "\n",
    "# results\n",
    "print(vif_data.sort_values(by=\"VIF\", ascending=False))"
   ]
  },
  {
   "cell_type": "markdown",
   "id": "0bb2b8ae",
   "metadata": {},
   "source": [
    "Considering the extremely high VIF score for embarked_S, I will remove it. "
   ]
  },
  {
   "cell_type": "code",
   "execution_count": 1826,
   "id": "c6f23921",
   "metadata": {},
   "outputs": [],
   "source": [
    "def drop_column_if_exists(df, column_name):\n",
    "    if column_name in df.columns:\n",
    "        return df.drop(columns=[column_name])\n",
    "    return df  \n",
    "\n",
    "X_train_selection = drop_column_if_exists(X_train_selected, 'embarked_S')\n",
    "\n",
    "X_val_selection = drop_column_if_exists(X_val_selected, 'embarked_S')\n",
    "X_test_selection = drop_column_if_exists(X_test_selected, 'embarked_S') "
   ]
  },
  {
   "cell_type": "markdown",
   "id": "f25ba8dd",
   "metadata": {},
   "source": [
    "I will check the VIF score one more time, to see if there is risk of any other multicollinearity risks. "
   ]
  },
  {
   "cell_type": "code",
   "execution_count": 1827,
   "id": "112506c0",
   "metadata": {},
   "outputs": [
    {
     "name": "stdout",
     "output_type": "stream",
     "text": [
      "      Feature       VIF\n",
      "1         age  3.105171\n",
      "0      pclass  2.571679\n",
      "4        fare  2.265992\n",
      "5  sex_female  1.755934\n",
      "3       parch  1.546175\n",
      "6  embarked_C  1.481882\n",
      "2       sibsp  1.465802\n",
      "7  embarked_Q  1.254164\n"
     ]
    }
   ],
   "source": [
    "from statsmodels.stats.outliers_influence import variance_inflation_factor\n",
    "\n",
    "\n",
    "X_vif = X_train_selection.copy()\n",
    "\n",
    "vif_data = pd.DataFrame()\n",
    "vif_data[\"Feature\"] = X_vif.columns\n",
    "vif_data[\"VIF\"] = [variance_inflation_factor(X_vif.values, i) for i in range(X_vif.shape[1])]\n",
    "print(vif_data.sort_values(by=\"VIF\", ascending=False))"
   ]
  },
  {
   "cell_type": "markdown",
   "id": "2a2f6bfa",
   "metadata": {},
   "source": [
    "These are the final features that we will consider for our model. It was a complex process for me due to unexpected results, but I was able to gather insights to make decisions for the model. "
   ]
  },
  {
   "cell_type": "markdown",
   "id": "29da37ef",
   "metadata": {},
   "source": [
    "### <font color='6e6e6e'>Why do we carry out tasks 6-7 after splitting the dataset into training, validation, and test sets?</font>"
   ]
  },
  {
   "cell_type": "markdown",
   "id": "edde4169",
   "metadata": {},
   "source": [
    "The main reason we handle data imbalance and feature selection afteer splitting the data is becuase of data leakage. If we apply SMOTE and ADASYN before data splitting, we risk oversampling data from the validation and test sets into the training set. This will cause the model to learn from the validation and test sets already! Additionally, we want our model to have realistic predictions, but if it has access to the validation and test sets data beforehand it will have over optimistic predictions causing it to perform poorlu in real-world scnearios. "
   ]
  },
  {
   "cell_type": "markdown",
   "id": "380d1c61",
   "metadata": {},
   "source": [
    "# <font color='#3c3c3c'>Task 8</font>"
   ]
  },
  {
   "cell_type": "markdown",
   "id": "78c4ab9e",
   "metadata": {},
   "source": [
    "Now, we can finally use a Logistic Regression model to predict passenger survial on the Titanic dataset. Logistic Regression is a commonly used algorithm for binary classification tasks, making it an ideal choice for predicting whether a passenger survives or not. "
   ]
  },
  {
   "cell_type": "code",
   "execution_count": 1828,
   "id": "a8ca8cbb",
   "metadata": {},
   "outputs": [],
   "source": [
    "from sklearn.linear_model import LogisticRegression\n",
    "from sklearn.metrics import accuracy_score, confusion_matrix\n",
    "\n",
    "logreg = LogisticRegression(max_iter=1000)\n",
    "logreg.fit(X_train_selection, Y_train_SMOTE)\n",
    "\n",
    "Y_val_pred = logreg.predict(X_val_selection)"
   ]
  },
  {
   "cell_type": "markdown",
   "id": "db8f3c9f",
   "metadata": {},
   "source": [
    "### <font color='6e6e6e'>Results</font>"
   ]
  },
  {
   "cell_type": "code",
   "execution_count": 1829,
   "id": "2f038291",
   "metadata": {},
   "outputs": [
    {
     "data": {
      "image/png": "[encoded data removed]",
      "text/plain": [
       "<Figure size 700x500 with 2 Axes>"
      ]
     },
     "metadata": {},
     "output_type": "display_data"
    },
    {
     "name": "stdout",
     "output_type": "stream",
     "text": [
      "\n",
      "==================================================\n",
      "          Classification Report\n",
      "==================================================\n",
      "              precision    recall  f1-score   support\n",
      "\n",
      "           0       0.86      0.41      0.56       121\n",
      "           1       0.49      0.89      0.63        75\n",
      "\n",
      "    accuracy                           0.60       196\n",
      "   macro avg       0.67      0.65      0.59       196\n",
      "weighted avg       0.72      0.60      0.59       196\n",
      "\n",
      "==================================================\n"
     ]
    }
   ],
   "source": [
    "import seaborn as sns\n",
    "import matplotlib.pyplot as plt\n",
    "from sklearn.metrics import confusion_matrix, classification_report\n",
    "\n",
    "cm = confusion_matrix(Y_val, Y_val_pred)\n",
    "\n",
    "plt.figure(figsize=(7, 5))\n",
    "sns.heatmap(cm, annot=True, fmt='d', cmap='Blues', xticklabels=['Not Survived', 'Survived'], yticklabels=['Not Survived', 'Survived'])\n",
    "plt.xlabel('Predicted')\n",
    "plt.ylabel('Actual')\n",
    "plt.title('Confusion Matrix')\n",
    "plt.show()\n",
    "\n",
    "# Results\n",
    "print(\"\\n\" + \"=\"*50)\n",
    "print(\"          Classification Report\")\n",
    "print(\"=\"*50)\n",
    "print(classification_report(Y_val, Y_val_pred))\n",
    "print(\"=\"*50)\n",
    "\n"
   ]
  },
  {
   "cell_type": "markdown",
   "id": "3eac8bee",
   "metadata": {},
   "source": [
    "The results of the Logistic Regression model show that the overall accuracy is 6%, with a precision of 86% for class 0 (non-survivors) and 41% for class 1 (survivors). The recall for class 1 is relatively high at 89%, but the recall for class 0 is much lower at 49%. This imbalance in recall suggests that the model is biased toward predicting survivors correctly while missing many non-survivors but I don't understand why since the balancing was done correctly in previous tasks. (I tried to understand why this is happening and checked several times my decisions, but I couldn't find the reason for this). This issue is likely due to a missed used variable name or something in the code that I couldn't identify. \n",
    "\n",
    "The results are not the best but it is a good starting point. In future steps, I will probably try a different sampling techinque and tuning hyperparamters. I am also hoping to further analyze this to understand where the imbalance is coming from."
   ]
  },
  {
   "cell_type": "code",
   "execution_count": 1830,
   "id": "f64c6074",
   "metadata": {},
   "outputs": [
    {
     "name": "stdout",
     "output_type": "stream",
     "text": [
      "Class distribution after SMOTE: {np.int64(0): np.int64(566), np.int64(1): np.int64(566)}\n"
     ]
    }
   ],
   "source": [
    "# This is just double checking that the data is indeed balanced \n",
    "import numpy as np\n",
    "\n",
    "unique, counts = np.unique(Y_train_SMOTE, return_counts=True)\n",
    "print(\"Class distribution after SMOTE:\", dict(zip(unique, counts)))\n"
   ]
  }
 ],
 "metadata": {
  "kernelspec": {
   "display_name": "Python 3 (ipykernel)",
   "language": "python",
   "name": "python3"
  },
  "language_info": {
   "codemirror_mode": {
    "name": "ipython",
    "version": 3
   },
   "file_extension": ".py",
   "mimetype": "text/x-python",
   "name": "python",
   "nbconvert_exporter": "python",
   "pygments_lexer": "ipython3",
   "version": "3.13.1"
  }
 },
 "nbformat": 4,
 "nbformat_minor": 5
}
