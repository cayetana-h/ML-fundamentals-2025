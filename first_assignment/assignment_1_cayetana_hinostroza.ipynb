{
 "cells": [
  {
   "cell_type": "code",
   "execution_count": null,
   "id": "da18173f",
   "metadata": {},
   "outputs": [],
   "source": [
    "# Run this cell if you don't have the following libraries installed\n",
    "!pip3 install pandas\n",
    "!pip3 install matplotlib\n",
    "!pip3 install seaborn\n",
    "!pip3 install scikit-learn\n"
   ]
  },
  {
   "cell_type": "code",
   "execution_count": 109,
   "id": "19ecc356",
   "metadata": {},
   "outputs": [],
   "source": [
    "import pandas as pd\n",
    "import matplotlib.pyplot as plt\n",
    "import seaborn as sns\n",
    "import sklearn"
   ]
  },
  {
   "cell_type": "markdown",
   "id": "8b312c1c",
   "metadata": {},
   "source": [
    "# Task 1\n",
    "\n",
    "When I did this task I ran into some issues dowloading the dataset. After a few minutes I realized that the newest version of xlrd was no longer compatible with .xls files so I decided to change the format of the file to .xlsx to load it. I decided to do since I was struggling to download an old version of xlrd. "
   ]
  },
  {
   "cell_type": "code",
   "execution_count": 110,
   "id": "5858d05c",
   "metadata": {},
   "outputs": [],
   "source": [
    "df = pd.read_excel(\"titanic3.xlsx\")"
   ]
  },
  {
   "cell_type": "markdown",
   "id": "c4508188",
   "metadata": {},
   "source": [
    "Using describe() was very commmon in our other courses, so I dedicided to give it a try to get a few details of the dataframe (count, mean, min/max, etc)"
   ]
  },
  {
   "cell_type": "code",
   "execution_count": 111,
   "id": "8592ab24",
   "metadata": {},
   "outputs": [
    {
     "name": "stdout",
     "output_type": "stream",
     "text": [
      "            pclass     survived          age        sibsp        parch  \\\n",
      "count  1309.000000  1309.000000  1046.000000  1309.000000  1309.000000   \n",
      "mean      2.294882     0.381971    29.881135     0.498854     0.385027   \n",
      "std       0.837836     0.486055    14.413500     1.041658     0.865560   \n",
      "min       1.000000     0.000000     0.166700     0.000000     0.000000   \n",
      "25%       2.000000     0.000000    21.000000     0.000000     0.000000   \n",
      "50%       3.000000     0.000000    28.000000     0.000000     0.000000   \n",
      "75%       3.000000     1.000000    39.000000     1.000000     0.000000   \n",
      "max       3.000000     1.000000    80.000000     8.000000     9.000000   \n",
      "\n",
      "              fare        body  \n",
      "count  1308.000000  121.000000  \n",
      "mean     33.295479  160.809917  \n",
      "std      51.758668   97.696922  \n",
      "min       0.000000    1.000000  \n",
      "25%       7.895800   72.000000  \n",
      "50%      14.454200  155.000000  \n",
      "75%      31.275000  256.000000  \n",
      "max     512.329200  328.000000  \n"
     ]
    }
   ],
   "source": [
    "print(df.describe())"
   ]
  },
  {
   "cell_type": "markdown",
   "id": "b46bc1f3",
   "metadata": {},
   "source": [
    "After getting the results of describe(), I realized that it isn't that helpful so I decided to use another method info(). "
   ]
  },
  {
   "cell_type": "code",
   "execution_count": 125,
   "id": "bab4a82d",
   "metadata": {},
   "outputs": [
    {
     "name": "stdout",
     "output_type": "stream",
     "text": [
      "<class 'pandas.core.frame.DataFrame'>\n",
      "RangeIndex: 1309 entries, 0 to 1308\n",
      "Data columns (total 14 columns):\n",
      " #   Column     Non-Null Count  Dtype  \n",
      "---  ------     --------------  -----  \n",
      " 0   pclass     1309 non-null   int64  \n",
      " 1   survived   1309 non-null   int64  \n",
      " 2   name       1309 non-null   object \n",
      " 3   sex        1309 non-null   object \n",
      " 4   age        1046 non-null   float64\n",
      " 5   sibsp      1309 non-null   int64  \n",
      " 6   parch      1309 non-null   int64  \n",
      " 7   ticket     1309 non-null   object \n",
      " 8   fare       1308 non-null   float64\n",
      " 9   cabin      295 non-null    object \n",
      " 10  embarked   1307 non-null   object \n",
      " 11  boat       486 non-null    object \n",
      " 12  body       121 non-null    float64\n",
      " 13  home.dest  745 non-null    object \n",
      "dtypes: float64(3), int64(4), object(7)\n",
      "memory usage: 143.3+ KB\n",
      "None\n"
     ]
    }
   ],
   "source": [
    "print(df.info())"
   ]
  },
  {
   "cell_type": "markdown",
   "id": "d7bb69fc",
   "metadata": {},
   "source": [
    "This method was more helpful since it helped me with a bit more information about the dataset. We know now that there are 1309 entries, which is a manageable amount of data to practice ML. We also know that there are 14 columns per entry of which 7 are categorical (which we will have to encode later on) and 7 are numerical. It also provides information about the null values present in each column. Since we have 1309 entires then pclass, survived, name, sex, sibsp, parch, and ticket columns are the only ones that have no missing values. We will just keep in this in mind for now and address this in the next task.\n",
    "\n",
    "Now I will move on to some visualizations for numerical columns. "
   ]
  },
  {
   "cell_type": "code",
   "execution_count": 113,
   "id": "28c30ea8",
   "metadata": {},
   "outputs": [
    {
     "name": "stdout",
     "output_type": "stream",
     "text": [
      "[[<Axes: title={'center': 'pclass'}> <Axes: title={'center': 'survived'}>\n",
      "  <Axes: title={'center': 'age'}>]\n",
      " [<Axes: title={'center': 'sibsp'}> <Axes: title={'center': 'parch'}>\n",
      "  <Axes: title={'center': 'fare'}>]\n",
      " [<Axes: title={'center': 'body'}> <Axes: > <Axes: >]]\n"
     ]
    },
    {
     "data": {
      "image/png": "[encoded data removed]",
      "text/plain": [
       "<Figure size 1000x800 with 9 Axes>"
      ]
     },
     "metadata": {},
     "output_type": "display_data"
    }
   ],
   "source": [
    "print(df.hist(figsize=(10,8)))"
   ]
  },
  {
   "cell_type": "markdown",
   "id": "f83ced75",
   "metadata": {},
   "source": [
    "So these histograms gives us a quick insight on each of the columns. For the pclass column it is clear that there much more people from the third class than the first and second classes. The survived column tells us that there are about 800 people that didn't survive, which is much more than those approximately 500 that did. As we previously saw with describe(), passengers' mean age was around 29-30. This means that there were more young adults and kids than there were old adults (right skewed). Majority of the passengers didn't have any companions on-board, some had one companion (probably spouses), and very few had families on-board (few outliers). Again, the enxt histogram tells us that majority of passengers did not have any parents or children on-board. Majority of passengers paid low fares, which we already knew since majority of passengers were traveling in third class, still, there a few who paid much more. Finally, the last histogram is not relevant since this is the column that just tells us the number of the found bodies. \n",
    "\n",
    "\n",
    "These histograms provided useful information about skewness and outliers, which we will have to deal with in later tasks. Nevertheless, the histograms provided information on individual variables. Now I want to get information on relationships, specifically the survival rates across the different numerical columns. I will use a barplot for easy analysis. "
   ]
  },
  {
   "cell_type": "code",
   "execution_count": 114,
   "id": "0af0bbc9",
   "metadata": {},
   "outputs": [
    {
     "data": {
      "image/png": "[encoded data removed]",
      "text/plain": [
       "<Figure size 500x300 with 1 Axes>"
      ]
     },
     "metadata": {},
     "output_type": "display_data"
    }
   ],
   "source": [
    "plt.figure(figsize =(5,3))\n",
    "sns.barplot(x=\"pclass\", y=\"survived\", data=df)\n",
    "plt.xlabel(\"Pclass\")\n",
    "plt.ylabel(\"Survival Rate\")\n",
    "plt.title(\"Survival Rate by Pclass\")\n",
    "plt.show()"
   ]
  },
  {
   "cell_type": "code",
   "execution_count": 115,
   "id": "fc94be81",
   "metadata": {},
   "outputs": [
    {
     "name": "stdout",
     "output_type": "stream",
     "text": [
      "        count      mean\n",
      "pclass                 \n",
      "1         323  0.619195\n",
      "2         277  0.429603\n",
      "3         709  0.255289\n"
     ]
    }
   ],
   "source": [
    "# I will create a copy to avoid modifying the original dataset since I am just exploring for now\n",
    "df_copy = df.copy()\n",
    "\n",
    "pclass_counts = df_copy.groupby('pclass')['survived'].agg(['count', 'mean'])\n",
    "print(pclass_counts)"
   ]
  },
  {
   "cell_type": "code",
   "execution_count": 116,
   "id": "88085d19",
   "metadata": {},
   "outputs": [
    {
     "data": {
      "image/png": "[encoded data removed]",
      "text/plain": [
       "<Figure size 500x300 with 1 Axes>"
      ]
     },
     "metadata": {},
     "output_type": "display_data"
    }
   ],
   "source": [
    "plt.figure(figsize =(5,3))\n",
    "sns.barplot(x=\"sibsp\", y=\"survived\", data=df)\n",
    "plt.xlabel(\"Number of siblings/spouses\")\n",
    "plt.ylabel(\"Surviva; Rate\")\n",
    "plt.title(\"Survival Rate by Number of Siblings/Spouses\")\n",
    "plt.show()"
   ]
  },
  {
   "cell_type": "code",
   "execution_count": 117,
   "id": "ebbdd46d",
   "metadata": {},
   "outputs": [
    {
     "name": "stdout",
     "output_type": "stream",
     "text": [
      "       count      mean\n",
      "sibsp                 \n",
      "0        891  0.346801\n",
      "1        319  0.510972\n",
      "2         42  0.452381\n",
      "3         20  0.300000\n",
      "4         22  0.136364\n",
      "5          6  0.000000\n",
      "8          9  0.000000\n"
     ]
    }
   ],
   "source": [
    "sibsp_counts = df_copy.groupby('sibsp')['survived'].agg(['count', 'mean'])\n",
    "print(sibsp_counts)"
   ]
  },
  {
   "cell_type": "code",
   "execution_count": 118,
   "id": "3ccc5489",
   "metadata": {},
   "outputs": [
    {
     "data": {
      "image/png": "[encoded data removed]",
      "text/plain": [
       "<Figure size 500x300 with 1 Axes>"
      ]
     },
     "metadata": {},
     "output_type": "display_data"
    }
   ],
   "source": [
    "plt.figure(figsize =(5,3))\n",
    "sns.barplot(x=\"parch\", y=\"survived\", data=df)\n",
    "plt.xlabel(\"Number of parents/children\")\n",
    "plt.ylabel(\"Surviva; Rate\")\n",
    "plt.title(\"Survival Rate by Number of Parents/Children\")\n",
    "plt.show()"
   ]
  },
  {
   "cell_type": "code",
   "execution_count": 119,
   "id": "b761b6a8",
   "metadata": {},
   "outputs": [
    {
     "name": "stdout",
     "output_type": "stream",
     "text": [
      "       count      mean\n",
      "parch                 \n",
      "0       1002  0.335329\n",
      "1        170  0.588235\n",
      "2        113  0.504425\n",
      "3          8  0.625000\n",
      "4          6  0.166667\n",
      "5          6  0.166667\n",
      "6          2  0.000000\n",
      "9          2  0.000000\n"
     ]
    }
   ],
   "source": [
    "parch_counts = df_copy.groupby('parch')['survived'].agg(['count', 'mean'])\n",
    "print(parch_counts)"
   ]
  },
  {
   "cell_type": "markdown",
   "id": "06f90f5c",
   "metadata": {},
   "source": [
    "The most relevant relationship I found was the survival rate by class. As one could've guessed, the survival rate in the first class is much higher than the one in the third class. The barplot shows a clear relationship, the higher the class the higher the survival rate. While the survival rate of those passengers in the first class is about 60%, the survival rate of those passengers in the second class is less than 30%... crazy! Knowing that there are much more passengers from the third class in the dataset, it is intuitive that not many passengers survived.\n",
    " \n",
    " Additionally, I also decided to visualize the survivial rate by number of siblings/spouses. The results seem to make sense since being completely alone had a lower surival rate than having one companion on-board, and having more that 1 companion decreased the surivival rate. \n",
    "  \n",
    "This goes hand in hand with the relationship with the number of parents/children. Most passengers had 0 to 2 parents/children on board, and even though the graph shows that the survival rate increased when the number of parch was 3 we need to consider that this was the case for only 8 passengers. Therefore, we can once again conclude that having 1 companion gave passengers more chance to survive than being alone but having more that 1 companion decreased their chances."
   ]
  },
  {
   "cell_type": "markdown",
   "id": "66dc8fe7",
   "metadata": {},
   "source": [
    "I want to further analyze the relationships with the other relevant columns so we have to find a way to group the data and graph it. We will graph the relationships between survival rate and age and fare since the relationhsip with found bodies is not relevant."
   ]
  },
  {
   "cell_type": "code",
   "execution_count": 120,
   "id": "bfcdb4cf",
   "metadata": {},
   "outputs": [
    {
     "name": "stderr",
     "output_type": "stream",
     "text": [
      "/var/folders/qs/b6gl60rs5p720hcg1ll48zqh0000gn/T/ipykernel_35425/3106331604.py:6: FutureWarning: The default of observed=False is deprecated and will be changed to True in a future version of pandas. Pass observed=False to retain current behavior or observed=True to adopt the future default and silence this warning.\n",
      "  age_survival_rate = df_copy.groupby('age_group')['survived'].mean()\n"
     ]
    },
    {
     "data": {
      "image/png": "[encoded data removed]",
      "text/plain": [
       "<Figure size 600x400 with 1 Axes>"
      ]
     },
     "metadata": {},
     "output_type": "display_data"
    }
   ],
   "source": [
    "age_bins = [0, 10, 20, 30, 40, 50, 60, 70, 80, df['age'].max() + 1]\n",
    "age_ranges = ['0-10', '10-20', '20-30', '30-40', '40-50', '50-60', '60-70', '70-80', '80+']\n",
    "\n",
    "df_copy['age_group'] = pd.cut(df_copy['age'], bins=age_bins, labels=age_ranges, right=False)\n",
    "\n",
    "age_survival_rate = df_copy.groupby('age_group')['survived'].mean()\n",
    "\n",
    "plt.figure(figsize =(6,4))\n",
    "sns.barplot(x=age_survival_rate.index, y=age_survival_rate.values)\n",
    "\n",
    "plt.title(\"Surival Rate by Passenger Age Range\")\n",
    "plt.xlabel(\"Age Range\")\n",
    "plt.ylabel(\"Surival Rate\")\n",
    "\n",
    "plt.show()\n"
   ]
  },
  {
   "cell_type": "markdown",
   "id": "a20f0fb8",
   "metadata": {},
   "source": [
    "It seems odd that kids have such a high survival rate and that elderly have a 100% of survival rate, so I want to check how many passengers fall in each age group. This is helpful because if there were 5 people that were 80+ years old and all 5 happened to survive then of course the survival rate is going to be 100%. (I will also go back to the previous plots and add the count per section as well)"
   ]
  },
  {
   "cell_type": "code",
   "execution_count": 121,
   "id": "96435431",
   "metadata": {},
   "outputs": [
    {
     "name": "stdout",
     "output_type": "stream",
     "text": [
      "           count      mean\n",
      "age_group                 \n",
      "0-10          82  0.609756\n",
      "10-20        143  0.391608\n",
      "20-30        344  0.369186\n",
      "30-40        232  0.422414\n",
      "40-50        135  0.385185\n",
      "50-60         70  0.457143\n",
      "60-70         32  0.312500\n",
      "70-80          7  0.142857\n",
      "80+            1  1.000000\n"
     ]
    },
    {
     "name": "stderr",
     "output_type": "stream",
     "text": [
      "/var/folders/qs/b6gl60rs5p720hcg1ll48zqh0000gn/T/ipykernel_35425/4253456302.py:1: FutureWarning: The default of observed=False is deprecated and will be changed to True in a future version of pandas. Pass observed=False to retain current behavior or observed=True to adopt the future default and silence this warning.\n",
      "  age_group_counts = df_copy.groupby('age_group')['survived'].agg(['count', 'mean'])\n"
     ]
    }
   ],
   "source": [
    "age_group_counts = df_copy.groupby('age_group')['survived'].agg(['count', 'mean'])\n",
    "print(age_group_counts)"
   ]
  },
  {
   "cell_type": "markdown",
   "id": "0341131c",
   "metadata": {},
   "source": [
    "The results make the graph much more clear. I made an assumption earlier that kids had a lower change of survival but even though the sample is still small, 82, it make sense that babies/kids had a higher survival rate since their safety was probably prioritized. Additionally, we should disregard the age group 80+ since there is only one sample. \n",
    "In conclusion, there seems to be a relationship between age and survival rate, yet, it is a non-linear relationship. Kids/babies had a higher chance of survival, elderly had a lower chance of survival, while middle-aged passengers had a survival rate between ~37% and ~ 46%. The sample sizes per age group are small so we should be careful drawing strict conclusions."
   ]
  },
  {
   "cell_type": "markdown",
   "id": "320bf684",
   "metadata": {},
   "source": [
    "Now moving on with graphing the relationship between survival rate and fares. Hopefully there is a relationship similar to the one we got with passenger classes since fare prices determine the class. We will also print the number of passengers in each fare range to be able to anaylze accordingly."
   ]
  },
  {
   "cell_type": "code",
   "execution_count": 126,
   "id": "1d205dd3",
   "metadata": {},
   "outputs": [
    {
     "name": "stdout",
     "output_type": "stream",
     "text": [
      "Min Fare: 0.0\n",
      "Max Fare: 512.3292\n"
     ]
    }
   ],
   "source": [
    "# First I need to find min and max fares to know how to split the bins\n",
    "\n",
    "min_fare = df['fare'].min()\n",
    "max_fare = df['fare'].max()\n",
    "\n",
    "print(\"Min Fare:\", min_fare)\n",
    "print(\"Max Fare:\", max_fare)"
   ]
  },
  {
   "cell_type": "code",
   "execution_count": 122,
   "id": "0ffcc9f9",
   "metadata": {},
   "outputs": [
    {
     "name": "stderr",
     "output_type": "stream",
     "text": [
      "/var/folders/qs/b6gl60rs5p720hcg1ll48zqh0000gn/T/ipykernel_35425/2788372364.py:9: FutureWarning: The default of observed=False is deprecated and will be changed to True in a future version of pandas. Pass observed=False to retain current behavior or observed=True to adopt the future default and silence this warning.\n",
      "  fare_survival_rate = df_copy.groupby('fare_group')['survived'].mean()\n"
     ]
    },
    {
     "data": {
      "image/png": "[encoded data removed]",
      "text/plain": [
       "<Figure size 500x300 with 1 Axes>"
      ]
     },
     "metadata": {},
     "output_type": "display_data"
    }
   ],
   "source": [
    "# Now that we know the min and max we can split the bins accordingly\n",
    "\n",
    "fare_bins = [0, 50, 100, 200, 300, 512.33]\n",
    "fare_ranges = ['0-50', '50-100', '100-200', '200-300', '300+']\n",
    "\n",
    "\n",
    "df_copy['fare_group'] = pd.cut(df_copy['fare'], bins=fare_bins, labels=fare_ranges, right=False)\n",
    "\n",
    "fare_survival_rate = df_copy.groupby('fare_group')['survived'].mean()\n",
    "\n",
    "\n",
    "plt.figure(figsize=(5, 3))\n",
    "sns.barplot(x=fare_survival_rate.index, y=fare_survival_rate.values)\n",
    "plt.title(\"Survival Rate by Fare Range\")\n",
    "plt.xlabel(\"Fare Range\")\n",
    "plt.ylabel(\"Survival Rate\")\n",
    "\n",
    "plt.show()\n"
   ]
  },
  {
   "cell_type": "code",
   "execution_count": 123,
   "id": "36c45484",
   "metadata": {},
   "outputs": [
    {
     "name": "stdout",
     "output_type": "stream",
     "text": [
      "            count      mean\n",
      "fare_group                 \n",
      "0-50         1066  0.320826\n",
      "50-100        158  0.620253\n",
      "100-200        46  0.739130\n",
      "200-300        34  0.647059\n",
      "300+            4  1.000000\n"
     ]
    },
    {
     "name": "stderr",
     "output_type": "stream",
     "text": [
      "/var/folders/qs/b6gl60rs5p720hcg1ll48zqh0000gn/T/ipykernel_35425/1676248467.py:1: FutureWarning: The default of observed=False is deprecated and will be changed to True in a future version of pandas. Pass observed=False to retain current behavior or observed=True to adopt the future default and silence this warning.\n",
      "  fare_group_counts = df_copy.groupby('fare_group')['survived'].agg(['count', 'mean'])\n"
     ]
    }
   ],
   "source": [
    "fare_group_counts = df_copy.groupby('fare_group')['survived'].agg(['count', 'mean'])\n",
    "print(fare_group_counts)"
   ]
  },
  {
   "cell_type": "markdown",
   "id": "ddabc167",
   "metadata": {},
   "source": [
    "Based on the results it seems that there is a positive relationship between fare range and survival rate (which is what we expected!), except that the fare range between 200 and 300 has a higher survival rate that the fare range between 100 and 200. Again, the sample sizes are small so we shouldn't draw strict conclusions. "
   ]
  },
  {
   "cell_type": "markdown",
   "id": "be76a801",
   "metadata": {},
   "source": [
    "Now moving on the categorical columns, we will graph the relationship between survival rate and sex and embarked."
   ]
  },
  {
   "cell_type": "code",
   "execution_count": 124,
   "id": "9c77098f",
   "metadata": {},
   "outputs": [
    {
     "data": {
      "image/png": "[encoded data removed]",
      "text/plain": [
       "<Figure size 500x300 with 1 Axes>"
      ]
     },
     "metadata": {},
     "output_type": "display_data"
    }
   ],
   "source": [
    "plt.figure(figsize=(5, 3))\n",
    "sns.barplot(x=df['sex'], y=df['survived'])\n",
    "\n",
    "plt.title('Survival Rate by Sex')\n",
    "plt.ylabel('Survival Rate')\n",
    "plt.xlabel('Sex')\n",
    "plt.show()"
   ]
  },
  {
   "cell_type": "code",
   "execution_count": 106,
   "id": "1a8a4b1e",
   "metadata": {},
   "outputs": [
    {
     "data": {
      "image/png": "[encoded data removed]",
      "text/plain": [
       "<Figure size 500x300 with 1 Axes>"
      ]
     },
     "metadata": {},
     "output_type": "display_data"
    }
   ],
   "source": [
    "plt.figure(figsize=(5, 3))\n",
    "sns.barplot(x=df['embarked'], y=df['survived'])\n",
    "\n",
    "plt.title('Survival Rate by Embarkation Port')\n",
    "plt.ylabel('Survival Rate')\n",
    "plt.xlabel('Embarked')\n",
    "plt.show()"
   ]
  },
  {
   "cell_type": "markdown",
   "id": "8dd51b0e",
   "metadata": {},
   "source": [
    "## Task 1 Summary\n",
    "\n",
    "Numerical parameters \n",
    "\n",
    "- survival rate vs pclass --> the higher the class (1, being the highest and 3 being the lowest), the higher the survival rate\n",
    "\n",
    "- survival rate vs age --> non-linear relationship, kids/babies have the highest survival rate \n",
    "\n",
    "- surival rate vs sibsp --> having 1 companion increases your chances of survival from 0 companions, but having more than one decreases it. \n",
    "\n",
    "- surival rate vs parch --> having 1 companion increases your chances of survival from 0 companions, but having more than one decreases it (in the graph it shows that having 3 companions has the highest survival rate but the sample size is very small)\n",
    "\n",
    "- survival rate vs fare --> positive relationship, the higher the fare, the higher the chances of survival\n",
    "\n",
    "Categorical parameters\n",
    "- survival rate vs sex --> females had almost 4 times the chance that males had at surving.\n",
    "- survival rate vs embarked --> passengers that embarked in port C had a higher chance of survial rate while S and Q had similar survival rates."
   ]
  },
  {
   "cell_type": "markdown",
   "id": "fd28552b",
   "metadata": {},
   "source": [
    "# Task 2 and 5\n",
    "\n",
    "When I used info() it already provided me with the number of non-null values per column, but we can further analyze this to get a clearer idea of the missing values. We will now use isnull() and sum() so we get the number of missing values instead of having to subtract the non-null values from the total number of entries per column."
   ]
  },
  {
   "cell_type": "code",
   "execution_count": 148,
   "id": "44f4b5a4",
   "metadata": {},
   "outputs": [
    {
     "name": "stdout",
     "output_type": "stream",
     "text": [
      "age          263\n",
      "fare           1\n",
      "embarked       2\n",
      "home.dest    564\n",
      "dtype: int64\n"
     ]
    }
   ],
   "source": [
    "missing_values = df.isnull().sum()\n",
    "print(missing_values[missing_values > 0])"
   ]
  },
  {
   "cell_type": "markdown",
   "id": "e8836977",
   "metadata": {},
   "source": [
    "The isnull() function now clearly states the number of null values per column. As we already knew, there are 7 columns that have null values. The columns that have the most missing values are the cabin and, boat, and body columns. This makes sense since most passengers that were assigned cabins belonged to the first class (so missing cabin likely refer to third class passengers), only survivors had boats, and only non-survivors had bodies to be found. To further analyze what strategy to use for the missing values it will be useful to know the percentage of missing values per column."
   ]
  },
  {
   "cell_type": "code",
   "execution_count": 149,
   "id": "d90d8361",
   "metadata": {},
   "outputs": [
    {
     "name": "stdout",
     "output_type": "stream",
     "text": [
      "age          20.091673\n",
      "fare          0.076394\n",
      "embarked      0.152788\n",
      "home.dest    43.086325\n",
      "dtype: float64\n"
     ]
    }
   ],
   "source": [
    "missing_values_percentage = (df.isnull().sum() / len(df)) * 100\n",
    "print(missing_values_percentage[missing_values_percentage > 0])"
   ]
  },
  {
   "cell_type": "markdown",
   "id": "01b3f53c",
   "metadata": {},
   "source": [
    "Considering there are several strategies that could be applied to handle missing values and that there is no way of knowing which is the best technique until after model validation, we have to make an educated guess by anaylzing the previous data anaylysis be made of each column. \n",
    "\n",
    "Before doing that I want to think about wether or not we should drop or not the columns with missing values. \n",
    "- age: This column is relevant due to a possible relationship with survival rate as we saw before in task #1. Therfore, we should not drop this column. \n",
    "\n",
    "- fare: This column is relevant due to a possible relation but it does go hand in hand with pclass so maybe it is a bit redundant. We can keep for now.\n",
    "\n",
    "- cabin: This column is relevant since the cabin probably tells us the class the passengers belonged too, but again it could be redundant. It would be more helpful if we had more information on where the cabins were located. Addtionally, 77% of the entries are missing so we can drop it.\n",
    "\n",
    "- embarked: This column could give us further insights and there not even 1% of missing values so we can keep it for now.\n",
    "\n",
    "- boat: This columns is not relevant since the survival column already tells us if the passenger survived, and since boats are only for those who survived it won't help us. We should drop it.\n",
    "\n",
    "- body: Again, this column is not relevant. If a passenger's body is found it won't help us determine if a passenger will survive or not. We should drop it. \n",
    "\n",
    "- home.dest: There is little potential this is helpful, but there is a possibility the passenger's background connects to their possibilities of survival so we can keep it for now. \n",
    "\n",
    "\n"
   ]
  },
  {
   "cell_type": "code",
   "execution_count": null,
   "id": "a43e607b",
   "metadata": {},
   "outputs": [],
   "source": [
    "# This cell wont' run since we already dropped the columns \n",
    "df.drop(columns=['cabin', 'boat', 'body'], inplace=True)"
   ]
  },
  {
   "cell_type": "markdown",
   "id": "100c4db4",
   "metadata": {},
   "source": [
    "Now that I analyzed the columns that I can drop I can move on to data imputation (Quick Note: if the data was much larger, we could consider getting rid of the entries(rows) with missing values. But, our dataset is not only not large enough, but some of the columns are meant to have missing values, like the body and boat columns. That's why I will drop those columns but keep the rest of the entries). \n",
    "\n",
    "- age: The distribution across age in this dataset follows an approximate normal distibution (according to the graph in task #1). Therefore, I believe that a good data imputation technique would be using the mean or median. I prefer the median because it's more robust to outliers, ensuring that extreme values don’t skew the imputed age. \n",
    "\n",
    "- fare: Considering that most passengers paid low fares, making it right skewed, it will also be better to use the median. \n",
    "\n",
    "- embarked: Since this column is categorical, we can't use the techniques we've been looking at. Nevertheless, considering that there are few missing values, we can just use the mode to fill in. \n",
    "\n",
    "- home.dest: This is another categorical column, so we can also use the mode. "
   ]
  },
  {
   "cell_type": "markdown",
   "id": "9d1541a3",
   "metadata": {},
   "source": [
    "Before applying the strategies mentioned above, it is better to first complete Task #5 (data splitting). The reason behind this decision is to prevent data leakage. If I impute missing values, like mean or median, before splitting, these values would be calculated based on the entire dataset, including data from the test and validation sets. This would provide the model with information that it would never have in the real-world during training. By splitting first, I ensure that imputation is done only on the training set; this prevents overfitting. \n",
    "\n",
    "Considering that the dataset is not large, I will split the data into 70% for training and 30% between validation and test data in the first split. This will help me have enough data to train the model and be able to generalize to unseen data. "
   ]
  },
  {
   "cell_type": "code",
   "execution_count": 135,
   "id": "46b3d753",
   "metadata": {},
   "outputs": [
    {
     "name": "stdout",
     "output_type": "stream",
     "text": [
      "X_train shape: (916, 10)\n",
      "X_val shape: (196, 10)\n",
      "X_test shape: (197, 10)\n"
     ]
    }
   ],
   "source": [
    "from sklearn.model_selection import train_test_split # I used this library as it was recommended \n",
    "\n",
    "X, Y = df.drop(columns=['survived']), df['survived']\n",
    "\n",
    "# first reccomended split\n",
    "X_train, X_other, Y_train, Y_other = train_test_split(X, Y, test_size=0.3, random_state=42, stratify=Y)\n",
    "\n",
    "#second reccomended split \n",
    "X_val, X_test, Y_val, Y_test = train_test_split(X_other, Y_other, test_size=0.5, random_state=42, stratify=Y_other)\n",
    "\n",
    "# now I will just check the dimensions of each split \n",
    "print(f\"X_train shape: {X_train.shape}\")\n",
    "print(f\"X_val shape: {X_val.shape}\")\n",
    "print(f\"X_test shape: {X_test.shape}\")"
   ]
  },
  {
   "cell_type": "markdown",
   "id": "a5299dc0",
   "metadata": {},
   "source": [
    "I want to make sure that the split was done correctly, so I will check that there are no duplicated rows throught the different datasets."
   ]
  },
  {
   "cell_type": "code",
   "execution_count": 140,
   "id": "9d639bda",
   "metadata": {},
   "outputs": [
    {
     "name": "stdout",
     "output_type": "stream",
     "text": [
      "Overlap between Train and Validation: 0\n",
      "Overlap between Train and Test: 0\n",
      "Overlap between Validation and Test: 0\n"
     ]
    }
   ],
   "source": [
    "print(\"Overlap between Train and Validation:\", X_train.index.intersection(X_val.index).shape[0])\n",
    "print(\"Overlap between Train and Test:\", X_train.index.intersection(X_test.index).shape[0])\n",
    "print(\"Overlap between Validation and Test:\", X_val.index.intersection(X_test.index).shape[0])\n"
   ]
  },
  {
   "cell_type": "markdown",
   "id": "44df6b93",
   "metadata": {},
   "source": [
    "We're good! Since the results was 0 for all of them then that means that there are no duplicates, no data leakage. "
   ]
  },
  {
   "cell_type": "markdown",
   "id": "c1cc706d",
   "metadata": {},
   "source": [
    "Additionally, I will double check that the datasets are representative of the original distribution using stratification. "
   ]
  },
  {
   "cell_type": "code",
   "execution_count": 144,
   "id": "7b239b04",
   "metadata": {},
   "outputs": [
    {
     "name": "stdout",
     "output_type": "stream",
     "text": [
      "\n",
      "Original Dataset Class Distribution:\n",
      "survived\n",
      "0    61.802903\n",
      "1    38.197097\n",
      "Name: proportion, dtype: float64\n",
      "\n",
      "Training Set Class Distribution:\n",
      "survived\n",
      "0    61.802903\n",
      "1    38.197097\n",
      "Name: proportion, dtype: float64\n",
      "\n",
      "Validation Set Class Distribution:\n",
      "survived\n",
      "0    61.802903\n",
      "1    38.197097\n",
      "Name: proportion, dtype: float64\n",
      "\n",
      "Test Set Class Distribution:\n",
      "survived\n",
      "0    61.802903\n",
      "1    38.197097\n",
      "Name: proportion, dtype: float64\n"
     ]
    }
   ],
   "source": [
    "\n",
    "def check_class_distribution(y, df):\n",
    "    distribution = Y.value_counts(normalize=True) * 100  \n",
    "    print(f\"\\n{df} Class Distribution:\\n{distribution}\")\n",
    "\n",
    "# Check distribution in the original dataset\n",
    "check_class_distribution(Y, \"Original Dataset\")\n",
    "\n",
    "# Check distributions in the split sets\n",
    "check_class_distribution(Y_train, \"Training Set\")\n",
    "check_class_distribution(Y_val, \"Validation Set\")\n",
    "check_class_distribution(Y_test, \"Test Set\")\n"
   ]
  },
  {
   "cell_type": "markdown",
   "id": "8daa08c9",
   "metadata": {},
   "source": [
    "Luckily, the results show that the original dataset's distribution has been mantained across the training, validation, and test sets. The splitting process was done correctly!"
   ]
  },
  {
   "cell_type": "markdown",
   "id": "3fad53cd",
   "metadata": {},
   "source": [
    "Now that that the data has been split and checked, I can continue with the rest of task #2, data imputation. I was going to manually find the values that I mentioned before to input them into the data, but SimpleImputer from sklearn.impute library apparently can quickly provide these values. So I will try it out. "
   ]
  },
  {
   "cell_type": "code",
   "execution_count": 139,
   "id": "c7e82924",
   "metadata": {},
   "outputs": [],
   "source": [
    "from sklearn.impute import SimpleImputer\n",
    "\n",
    "#numerical columns (qge and fare)\n",
    "age_imputer = SimpleImputer(strategy='median')\n",
    "fare_imputer = SimpleImputer(strategy='median')\n",
    "\n",
    "X_train['age'] = age_imputer.fit_transform(X_train[['age']]).ravel()\n",
    "X_train['fare'] = fare_imputer.fit_transform(X_train[['fare']]).ravel()\n",
    "\n",
    "X_val['age'] = age_imputer.transform(X_val[['age']]).ravel()\n",
    "X_val['fare'] = fare_imputer.transform(X_val[['fare']]).ravel()\n",
    "\n",
    "X_test['age'] = age_imputer.transform(X_test[['age']]).ravel()\n",
    "X_test['fare'] = fare_imputer.transform(X_test[['fare']]).ravel()\n",
    "\n",
    "#  categorical columns (embarked and home.dest)\n",
    "embarked_imputer = SimpleImputer(strategy='most_frequent')\n",
    "home_dest_imputer = SimpleImputer(strategy='most_frequent')\n",
    "\n",
    "X_train['embarked'] = embarked_imputer.fit_transform(X_train[['embarked']]).ravel()\n",
    "X_train['home.dest'] = home_dest_imputer.fit_transform(X_train[['home.dest']]).ravel()\n",
    "\n",
    "X_val['embarked'] = embarked_imputer.transform(X_val[['embarked']]).ravel()\n",
    "X_val['home.dest'] = home_dest_imputer.transform(X_val[['home.dest']]).ravel()\n",
    "\n",
    "X_test['embarked'] = embarked_imputer.transform(X_test[['embarked']]).ravel()\n",
    "X_test['home.dest'] = home_dest_imputer.transform(X_test[['home.dest']]).ravel()\n"
   ]
  },
  {
   "cell_type": "code",
   "execution_count": 141,
   "id": "c16c3edc",
   "metadata": {},
   "outputs": [
    {
     "name": "stdout",
     "output_type": "stream",
     "text": [
      "Missing values in X_train:\n",
      " pclass       0\n",
      "name         0\n",
      "sex          0\n",
      "age          0\n",
      "sibsp        0\n",
      "parch        0\n",
      "ticket       0\n",
      "fare         0\n",
      "embarked     0\n",
      "home.dest    0\n",
      "dtype: int64\n",
      "Missing values in X_val:\n",
      " pclass       0\n",
      "name         0\n",
      "sex          0\n",
      "age          0\n",
      "sibsp        0\n",
      "parch        0\n",
      "ticket       0\n",
      "fare         0\n",
      "embarked     0\n",
      "home.dest    0\n",
      "dtype: int64\n",
      "Missing values in X_test:\n",
      " pclass       0\n",
      "name         0\n",
      "sex          0\n",
      "age          0\n",
      "sibsp        0\n",
      "parch        0\n",
      "ticket       0\n",
      "fare         0\n",
      "embarked     0\n",
      "home.dest    0\n",
      "dtype: int64\n"
     ]
    }
   ],
   "source": [
    "# Quickly checking that there are no null values\n",
    "\n",
    "print(\"Missing values in X_train:\\n\", X_train.isnull().sum())\n",
    "print(\"Missing values in X_val:\\n\", X_val.isnull().sum())\n",
    "print(\"Missing values in X_test:\\n\", X_test.isnull().sum())\n"
   ]
  },
  {
   "cell_type": "markdown",
   "id": "2b9d2e5e",
   "metadata": {},
   "source": [
    "# Task 3"
   ]
  },
  {
   "cell_type": "markdown",
   "id": "4bcc466c",
   "metadata": {},
   "source": [
    "# Task 4"
   ]
  },
  {
   "cell_type": "markdown",
   "id": "d0d95bfb",
   "metadata": {},
   "source": [
    "# Task 6"
   ]
  },
  {
   "cell_type": "markdown",
   "id": "09cb38a0",
   "metadata": {},
   "source": [
    "# Task 7"
   ]
  },
  {
   "cell_type": "markdown",
   "id": "380d1c61",
   "metadata": {},
   "source": [
    "# Task 8"
   ]
  }
 ],
 "metadata": {
  "kernelspec": {
   "display_name": "Python 3",
   "language": "python",
   "name": "python3"
  },
  "language_info": {
   "codemirror_mode": {
    "name": "ipython",
    "version": 3
   },
   "file_extension": ".py",
   "mimetype": "text/x-python",
   "name": "python",
   "nbconvert_exporter": "python",
   "pygments_lexer": "ipython3",
   "version": "3.12.8"
  }
 },
 "nbformat": 4,
 "nbformat_minor": 5
}
